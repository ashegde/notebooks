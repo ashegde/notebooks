{
  "cells": [
    {
      "cell_type": "markdown",
      "metadata": {
        "id": "-yC091qfC5iT"
      },
      "source": [
        "In this notebook, we explore simple examples Recurrent Neural Networks. In a subsequent notebook, we will also explore LSTMs. Moreover, for improved model performance, we will likely need to use better implementations and more sophisticated optimization algorithms, as built into Pytorch. Our goal here is just to practice the implementation and observe challenges. Later, we will build bigger models using more of Pytorch built-in classes.\n"
      ]
    },
    {
      "cell_type": "markdown",
      "metadata": {
        "id": "7vwg6RtuBwYa"
      },
      "source": [
        "As before, we keep in mind that neural networks which output logits (or possibly unnormalized probabilities) essentially parameterize a probability distribution over the data space. Recurrent Neural Networks (RNNs) provide a convenient way of parameterizing probability distributions over variable-length sequences, i.e., $\\mathbb{P}(x_1 x_2 ... x_T)$. Moreover, RNNs can be treated as generative models for these sequences.\n",
        "\n",
        "Key concepts to understand are (1) backpropagation and exploding/vanishing gradients, (2) notions of dynamics and memory, and (3) probability models, specifically the evolution from Bigram / Trigram / $N$-gram Markov Models to Hidden Markov Models to RNNs. "
      ]
    },
    {
      "cell_type": "code",
      "execution_count": null,
      "metadata": {
        "id": "hS3T9u6MiQxp"
      },
      "outputs": [],
      "source": [
        "import torch\n",
        "import torch.nn as nn\n",
        "import torch.nn.functional as F\n",
        "import matplotlib.pyplot as plt\n",
        "import numpy as np\n",
        "\n",
        "%matplotlib inline\n",
        "\n",
        "!git clone https://github.com/karpathy/makemore"
      ]
    },
    {
      "cell_type": "code",
      "source": [
        "device = torch.device('cuda' if torch.cuda.is_available() else 'cpu')\n",
        "print(device)"
      ],
      "metadata": {
        "id": "7HW0R51xK4Lr"
      },
      "execution_count": null,
      "outputs": []
    },
    {
      "cell_type": "code",
      "execution_count": null,
      "metadata": {
        "id": "ZkGfCqJ1q_tD"
      },
      "outputs": [],
      "source": [
        "with open('makemore/names.txt','r') as file:\n",
        "  words = file.read().splitlines()"
      ]
    },
    {
      "cell_type": "code",
      "execution_count": null,
      "metadata": {
        "id": "gKCjx5iWrAKY"
      },
      "outputs": [],
      "source": [
        "word_lengths = torch.tensor([len(w) for w in words]).float()\n",
        "print(\n",
        " f\"\"\"\n",
        " This dataset contains {word_lengths.nelement()} names\\n\n",
        " The minimum name length is {word_lengths.min()} characters.\\n \n",
        " The maximum name length is {word_lengths.max()} characters.\\n\n",
        " The mean name length is  {word_lengths.mean():.2f} characters. \\n\n",
        " The associated standard deviation is {word_lengths.std():.2f} characters.\n",
        " \"\"\"\n",
        " )"
      ]
    },
    {
      "cell_type": "code",
      "execution_count": null,
      "metadata": {
        "id": "V1NQVFWDrGQX"
      },
      "outputs": [],
      "source": [
        "#building the character vocabulary and lookup tables to map from characters to integer indices and back\n",
        "\n",
        "chars = ['>']+sorted(list(set(''.join(words))))+['<']  #'>' = start token, '<' = end token \n",
        "s_to_i = {s:i for i,s in enumerate(chars)}\n",
        "i_to_s = {i:s for s,i in s_to_i.items()}\n",
        "vocab_size = len(i_to_s)\n",
        "print(i_to_s)\n",
        "print(vocab_size)\n"
      ]
    },
    {
      "cell_type": "code",
      "execution_count": null,
      "metadata": {
        "id": "48XyvM0RjqFJ"
      },
      "outputs": [],
      "source": [
        "import random\n",
        "\n",
        "word_lengths = torch.tensor([len(w) for w in words])\n",
        "max_word_length = word_lengths.max()\n",
        "\n",
        "def build_dataset(words):\n",
        "  '''\n",
        "  Build training, validation/dev, and test datasets.\n",
        "  Note, the training dataset is padded with special characters to ensure \n",
        "  each word/sequence is of the same length. This is only being done so we can train with minibatches.\n",
        "  Presumably, the model should learn that an end character '<' should be followed by another end character '<' with probability 1.\n",
        "  '''\n",
        "  # 80%, 10%, 10%\n",
        "  random.seed(42)\n",
        "  random.shuffle(words)\n",
        "  n1 = int(0.8*len(words))\n",
        "  n2 = int(0.9*len(words))\n",
        "\n",
        "  X = []\n",
        "  for w in words:\n",
        "    v = [s_to_i[ch] for ch in '>'+w+'<']\n",
        "    while len(v) < max_word_length+2: #padding, +2 for the start and end characters\n",
        "      v += [s_to_i['<']]\n",
        "    X.append(v)\n",
        "\n",
        "  Xtr = torch.tensor(X[:n1])\n",
        "  Xdev = torch.tensor(X[n1:n2])\n",
        "  Xte = torch.tensor(X[n2:])\n",
        "  \n",
        "  return Xtr, Xdev, Xte\n",
        "\n",
        "#training split (used to train parameters), dev/validation split (used to train hyperparameters), test split (at end with the final model)\n",
        "\n",
        "Xtr, Xdev, Xte = build_dataset(words)\n",
        "\n",
        "print(Xtr.size())\n",
        "print(Xdev.size())\n",
        "print(Xte.size())"
      ]
    },
    {
      "cell_type": "markdown",
      "metadata": {
        "id": "p7V_LsNJCD-m"
      },
      "source": [
        "## A digression on models\n",
        "As we have discussed, models in this setting are probability distributions over sequences $\\mathbb{P}(x_1 x_2 ... x_T)$. Some models are good and match the data, some models are bad and overfit or do not support the data. We often assume that the data are i.i.d. sampled sequences from an unknown true distribution $\\mathbb{P}_{\\textrm{true}}$. \n",
        "\n",
        "Markov models (e.g., n-gram models), hidden markov models, recurrent neural networks, etc. all correspond to different assumptions on the form of the model. Ideally, assumptions are supported by some underlying theory, but are often made out of necessity to render the problem computationally tractable. Without tractability, nothing can be accomplished. \n",
        "\n",
        "In the following, we investigate two simple \"extreme-case\" models to provide us with some benchmarks.\n",
        "\n"
      ]
    },
    {
      "cell_type": "markdown",
      "metadata": {
        "id": "vn9SQigUkJyF"
      },
      "source": [
        "The first is a perfectly overfit model -- the empirical distribution of the training data. Consider the training dataset $\\mathcal{D}$ made up of iid samples $x^{(1)},...,x^{(N)} \\sim \\mathbb{P}_{\\textrm{true}}$. Then,\n",
        "\n",
        "$\\mathbb{P}_{\\textrm{emp}}(x|\\mathcal{D}) = \\frac{1}{N} \\sum_{i=1}^{N} 1_{x^{(i)}}(x)$,\n",
        "\n",
        "which assigns probability mass only to the observed realizations of the training data. Note that since the test data realizations are unlikely to match the training set, this model assigns them zero probability and thus utterly fails to generalize.\n",
        "\n",
        "With this probability model, the cross entropy between the empirical distribution (unbiased proxy for the unknown $\\mathbb{P}_{\\textrm{true}}$) and the model (which in this case is also the empirical distribution) is given by:\n",
        "\n",
        "CrossEntropyLoss1 \\\\\n",
        "$= -\\int \\mathbb{P}_{\\textrm{emp}}(x|\\mathcal{D}) \\log ( \\mathbb{P}_{\\textrm{emp}}(x|\\mathcal{D})) dx $ \\\\\n",
        "$= - \\frac{1}{N} \\sum_{i=1}^{N}  \\log ( \\mathbb{P}_{\\textrm{emp}}(x^{(i)} |\\mathcal{D})) $   &emsp;  note, this is the average negative log likelihood of the training data \\\\\n",
        "$= - \\frac{1}{N} \\sum_{i=1}^{N}  \\log ( \\frac{1}{N}) $ \\\\\n",
        "$= \\log(N)$\n",
        "\n",
        "Recall in our example above, $N=25626$"
      ]
    },
    {
      "cell_type": "code",
      "execution_count": null,
      "metadata": {
        "id": "OW1XT4-Wtcyg"
      },
      "outputs": [],
      "source": [
        "PerfectOverfittingCELoss = np.log(Xtr.shape[0])\n",
        "print(PerfectOverfittingCELoss)"
      ]
    },
    {
      "cell_type": "markdown",
      "metadata": {
        "id": "ECqIMFjytdA1"
      },
      "source": [
        "In contrast, a model that does not overfit and completely underfits is the probability model that assigns all possible sequences equal probability. Suppose the sequence length is $T$ (as above) and that each token $x_i$ can take on $V$ different values, i.e., $V$ is the size of the vocabulary. Then, there are a total of $V^T$ possible sequences. In our example, $V=28$ and $T=17$. This model is perhaps the simplest model -- it has no dependence on the training data -- and is described by:\n",
        "\n",
        "$\\mathbb{P}_{\\textrm{unif}}(x) = \\frac{1}{V^T}$\n",
        "\n",
        "With this model, the cross-entropy loss is:\n",
        "\n",
        "CrossEntropyLoss2 \\\\\n",
        "$= -\\int \\mathbb{P}_{\\textrm{emp}}(x|\\mathcal{D}) \\log (\\mathbb{P}_{\\textrm{unif}}(x)) dx $ \\\\\n",
        "$= - \\frac{1}{N} \\sum_{i=1}^{N}  \\log ( \\mathbb{P}_{\\textrm{unif}}(x^{(i)} )) $  \\\\\n",
        "$= - \\frac{1}{N} \\sum_{i=1}^{N}  \\log ( \\frac{1}{V^T} ) $ \\\\\n",
        "$= \\log ( V^T)$ \\\\\n",
        "$= T \\log(V) $"
      ]
    },
    {
      "cell_type": "code",
      "execution_count": null,
      "metadata": {
        "id": "Il2OMB_40vJY"
      },
      "outputs": [],
      "source": [
        "UniformCELoss = 17 * np.log(28)\n",
        "print(UniformCELoss)"
      ]
    },
    {
      "cell_type": "markdown",
      "metadata": {
        "id": "uflBDzvcmXdv"
      },
      "source": [
        "The above models are quite simple, but they provide some benchmarks and help us interpret what values the loss should take. Losses near $10.15$ are likely to be overfitting, while losses near $56.65$ suggest the model does no better than a uniform prediction model"
      ]
    },
    {
      "cell_type": "markdown",
      "metadata": {
        "id": "N6WC5sUy1MW9"
      },
      "source": [
        "### A Simple Recurrent Neural Network"
      ]
    },
    {
      "cell_type": "markdown",
      "metadata": {
        "id": "pue0zq_DIRRO"
      },
      "source": [
        "First, we will build a single RNN cell. As before we will do this in a pytorch-like fashion, but try not to use pre-built classes and methods."
      ]
    },
    {
      "cell_type": "code",
      "execution_count": null,
      "metadata": {
        "id": "QrS3tA6zIXfM"
      },
      "outputs": [],
      "source": [
        "g = torch.Generator().manual_seed(2147483647)\n",
        "\n",
        "class RecurrentBlock(nn.Module):\n",
        "  '''\n",
        "  Single recurrent layer, with layer normalization\n",
        "  '''\n",
        "  def __init__(self, in_dim, hidden_dim, out_dim):\n",
        "    super(RecurrentBlock, self).__init__()\n",
        "\n",
        "    self.hidden_dim = hidden_dim\n",
        "    self.h = None\n",
        "    \n",
        "    self.layer_h = nn.Linear(hidden_dim, hidden_dim, bias=True)\n",
        "    self.layer_i = nn.Linear(in_dim, hidden_dim, bias=False)\n",
        "    self.layer_o = nn.Linear(hidden_dim, out_dim, bias=True)\n",
        "    self.layernorm = nn.LayerNorm((hidden_dim,))\n",
        "    self.tanh = torch.tanh  \n",
        "  \n",
        "  def forward(self,x):\n",
        "    # x is (B,in_dim), h is (B, hidden_dim)\n",
        "    z = self.layer_h(self.h)+self.layer_i(x) #(B,hidden_dim)\n",
        "    self.h = self.tanh( self.layernorm(z) ) #(B,hidden_dim) \n",
        "    y = self.layer_o(self.h) # (B,out_dim)\n",
        "    return y\n",
        "\n",
        "  def set_h(self, hnew, dev):\n",
        "    self.h = hnew.to(dev)\n",
        "\n",
        "class RNN(nn.Module):\n",
        "  '''\n",
        "  RNN that accepts input tensors of dimension (T,B,I) where\n",
        "  T = maximum length of the sequence (x1, x2, x3,...,xT)\n",
        "  B = batch dimension\n",
        "  I = input dimension\n",
        "  So if the input tensor is x, then x[0,1,:] = the embedding of the first token in the second example sequence of the batch \n",
        "  '''\n",
        "  def __init__(self, vocab_size, n_embd, block_dims, device):\n",
        "    super(RNN, self).__init__()\n",
        "    self.depth = len(block_dims)\n",
        "    self.device = device\n",
        "    assert( all(block_dims[ii][2] == block_dims[ii+1][0] for ii in range(self.depth-1)) ) #check compatibility\n",
        "    self.embedding = nn.Embedding(vocab_size, n_embd)\n",
        "    self.layers = nn.Sequential(*[RecurrentBlock(*d) for d in block_dims])\n",
        "\n",
        "  def step(self, x):\n",
        "    # x is (B,in_dim)\n",
        "    y = self.layers[0](x)\n",
        "    if self.depth > 1:\n",
        "      for layer in self.layers[1:]:\n",
        "        y = layer(y)\n",
        "    return y\n",
        "\n",
        "  def forward(self, z):\n",
        "    emb = self.embedding(z) #(batch_size, max_word_length, n_embd), embeds characters into vector space\n",
        "    x = emb.permute(1,0,2)\n",
        "\n",
        "    T,B,I = x.size()\n",
        "    for layer in self.layers:\n",
        "      layer.set_h(torch.zeros(layer.hidden_dim), self.device)\n",
        "    logits = torch.zeros((T-1,B,vocab_size)) \n",
        "\n",
        "    for t in range(T-1):  \n",
        "      logits[t]= self.step(x[t])\n",
        "    return logits\n"
      ]
    },
    {
      "cell_type": "code",
      "execution_count": null,
      "metadata": {
        "id": "BPqTydnQk-Lg"
      },
      "outputs": [],
      "source": [
        "n_embd = 100\n",
        "n_hidden = 512\n",
        "\n",
        "model = RNN( vocab_size, n_embd, [(n_embd, n_hidden, vocab_size)], device)\n",
        "model.to(device)"
      ]
    },
    {
      "cell_type": "code",
      "source": [
        "print(sum(p.nelement() for p in model.parameters() ))\n",
        "for p in model.parameters():\n",
        "  p.requires_grad = True"
      ],
      "metadata": {
        "id": "GCWrV95_E4Cn"
      },
      "execution_count": null,
      "outputs": []
    },
    {
      "cell_type": "code",
      "execution_count": null,
      "metadata": {
        "id": "JAL-hd60IpiN"
      },
      "outputs": [],
      "source": [
        "max_steps = 200000\n",
        "batch_size = 32\n",
        "\n",
        "lossi = []\n",
        "model.train\n",
        "for i in range(max_steps):\n",
        "\n",
        "  # constructing minibatch \n",
        "  ix = torch.randint(0, Xtr.shape[0], (batch_size,), generator=g)\n",
        "  Xb = Xtr[ix].to(device) #(batch_size, max_word_length)\n",
        "\n",
        "  logits = model(Xb).to(device) #logits is (max_word_length, batch_size, vocab_size)\n",
        "\n",
        "  loss = 0\n",
        "  for t in range(max_word_length-1):\n",
        "    loss += F.cross_entropy(logits[t],Xb[:,t+1]) #cross entropy loss averaged over time steps (and minibatch)\n",
        "\n",
        "  # backward pass\n",
        "  for p in model.parameters():\n",
        "    p.grad = None\n",
        "  loss.backward()\n",
        "\n",
        "  # update\n",
        "  lr = 0.1 if i<100000 else 0.01\n",
        "  for p in model.parameters():\n",
        "    p.data += -lr * p.grad\n",
        "\n",
        "  # track stats\n",
        "  if i % 10000 == 0:\n",
        "    print(f'{i:7d} / {max_steps:7d}: {loss.item():.4f}') #prints the batch loss\n",
        "  lossi.append(loss.log10().item())\n",
        "  "
      ]
    },
    {
      "cell_type": "code",
      "source": [
        "model.eval"
      ],
      "metadata": {
        "id": "tOJpEZujJo7_"
      },
      "execution_count": null,
      "outputs": []
    },
    {
      "cell_type": "code",
      "execution_count": null,
      "metadata": {
        "id": "1saR8d6vJCO1"
      },
      "outputs": [],
      "source": [
        "# training loss\n",
        "@torch.no_grad()\n",
        "def split_loss(split):\n",
        "  x = { \n",
        "      'train': (Xtr),\n",
        "      'val': (Xdev),\n",
        "      'test': (Xte),\n",
        "  }[split]\n",
        "  x=x.to(device)\n",
        "\n",
        "  logits = model(x).to(device) #logits is (max_word_length, batch_size, vocab_size)\n",
        "  loss = 0\n",
        "  for t in range(max_word_length-1):\n",
        "    loss += F.cross_entropy(logits[t],x[:,t+1])\n",
        "  print(split, loss.item())\n",
        "  \n",
        "split_loss('train')\n",
        "split_loss('test')"
      ]
    },
    {
      "cell_type": "code",
      "execution_count": null,
      "metadata": {
        "id": "sKvylD7gJFGg"
      },
      "outputs": [],
      "source": [
        "g = torch.Generator().manual_seed(2147483647 + 11)\n",
        "\n",
        "with torch.no_grad():\n",
        "  for _ in range(20):\n",
        "    out = []\n",
        "    current_input = torch.tensor([s_to_i['>']]).to(device)  \n",
        "    for layer in model.layers:\n",
        "      layer.set_h(torch.zeros(layer.hidden_dim,), device)\n",
        "    while True:\n",
        "      x=model.embedding(current_input) #(1,n_embd)\n",
        "      #z = emb.permute(1,0,2)\n",
        "      logits = model.step(x).to(device) #logits = ()\n",
        "      probs = F.softmax(logits,dim=1) # get the output distribution on the characters\n",
        "      ix = torch.multinomial(probs.squeeze(), num_samples=1).item()\n",
        "      current_input =  torch.tensor([ix]).to(device)   #shifts the context window to the right one character (now includes ix)\n",
        "      out.append(ix)\n",
        "      if ix == s_to_i['<']: #terminate at the end character '<'\n",
        "        break\n",
        "    print(''.join(i_to_s[i] for i in out))"
      ]
    },
    {
      "cell_type": "markdown",
      "metadata": {
        "id": "4uWB4yqpgZdO"
      },
      "source": [
        "##Deep RNN\n",
        "\n",
        "Next we will try connecting RNN blocks to improve the results. Recall that deeper architectures can be harder to train, particularly using just vanilla stochastic gradient descent and no other bells and whistles."
      ]
    },
    {
      "cell_type": "code",
      "execution_count": null,
      "metadata": {
        "id": "RX4A1oNNQSn5"
      },
      "outputs": [],
      "source": [
        "n_embd = 100\n",
        "n_hidden = 512\n",
        "\n",
        "embd_size = (vocab_size, n_embd)\n",
        "model = RNN(vocab_size, n_embd, [(n_embd, n_hidden, n_hidden), (n_hidden, n_hidden, vocab_size)],  device) #2 RNN blocks\n",
        "model.to(device)"
      ]
    },
    {
      "cell_type": "code",
      "source": [
        "print(sum(p.nelement() for p in model.parameters() ))\n",
        "for p in model.parameters():\n",
        "  p.requires_grad = True"
      ],
      "metadata": {
        "id": "KXPAmjhgLASo"
      },
      "execution_count": null,
      "outputs": []
    },
    {
      "cell_type": "code",
      "execution_count": null,
      "metadata": {
        "id": "aHSJY-ooSv_K"
      },
      "outputs": [],
      "source": [
        "## As is common in recurrent architectures, the gradients are problematic and training is unstable.\n",
        "## To address this, I have added layer normalization to RecurrentBlock\n",
        "\n",
        "max_steps = 200000\n",
        "batch_size = 32\n",
        "\n",
        "lossi = []\n",
        "\n",
        "for i in range(max_steps):\n",
        "\n",
        "  # constructing minibatch \n",
        "  ix = torch.randint(0, Xtr.shape[0], (batch_size,), generator=g)\n",
        "  Xb = Xtr[ix].to(device) #(batch_size, max_word_length)\n",
        "\n",
        "  logits = model(Xb).to(device) #logits is (max_word_length, batch_size, vocab_size)\n",
        "\n",
        "  loss = 0\n",
        "  for t in range(max_word_length-1):\n",
        "    loss += F.cross_entropy(logits[t],Xb[:,t+1]) #cross entropy loss averaged over time steps (and minibatch)\n",
        "\n",
        "  # backward pass\n",
        "  for p in model.parameters():\n",
        "    p.grad = None\n",
        "  loss.backward()\n",
        "\n",
        "  # update\n",
        "  lr = 0.1 if i<100000 else 0.01\n",
        "  for p in model.parameters():\n",
        "    p.data += -lr * p.grad\n",
        "\n",
        "  # track stats\n",
        "  if i % 10000 == 0:\n",
        "    print(f'{i:7d} / {max_steps:7d}: {loss.item():.4f}') #prints the batch loss\n",
        "  lossi.append(loss.log10().item())\n",
        "  "
      ]
    },
    {
      "cell_type": "code",
      "source": [
        "model.eval"
      ],
      "metadata": {
        "id": "HQJ-j0RbPRrP"
      },
      "execution_count": null,
      "outputs": []
    },
    {
      "cell_type": "code",
      "execution_count": null,
      "metadata": {
        "id": "KVZLb4nLTvQO"
      },
      "outputs": [],
      "source": [
        "# training loss\n",
        "@torch.no_grad()\n",
        "def split_loss(split):\n",
        "  x = { \n",
        "      'train': (Xtr),\n",
        "      'val': (Xdev),\n",
        "      'test': (Xte),\n",
        "  }[split]\n",
        "  x=x.to(device)\n",
        "\n",
        "  logits = model(x).to(device) #logits is (max_word_length, batch_size, vocab_size)\n",
        "  loss = 0\n",
        "  for t in range(max_word_length-1):\n",
        "    loss += F.cross_entropy(logits[t],x[:,t+1])\n",
        "  print(split, loss.item())\n",
        "  \n",
        "split_loss('train')\n",
        "split_loss('test')"
      ]
    },
    {
      "cell_type": "code",
      "execution_count": null,
      "metadata": {
        "id": "Zq3i0Z1VeD-r"
      },
      "outputs": [],
      "source": [
        "g = torch.Generator().manual_seed(2147483647 + 11)\n",
        "\n",
        "with torch.no_grad():\n",
        "  for _ in range(20):\n",
        "    out = []\n",
        "    current_input = torch.tensor([s_to_i['>']]).to(device)  \n",
        "    for layer in model.layers:\n",
        "      layer.set_h(torch.zeros(layer.hidden_dim,), device)\n",
        "    while True:\n",
        "      x=model.embedding(current_input) #(1,n_embd)\n",
        "      #z = emb.permute(1,0,2)\n",
        "      logits = model.step(x).to(device) #logits = ()\n",
        "      probs = F.softmax(logits,dim=1) # get the output distribution on the characters\n",
        "      ix = torch.multinomial(probs.squeeze(), num_samples=1).item()\n",
        "      current_input =  torch.tensor([ix]).to(device)   #shifts the context window to the right one character (now includes ix)\n",
        "      out.append(ix)\n",
        "      if ix == s_to_i['<']: #terminate at the end character '<'\n",
        "        break\n",
        "    print(''.join(i_to_s[i] for i in out))"
      ]
    }
  ],
  "metadata": {
    "colab": {
      "provenance": []
    },
    "kernelspec": {
      "display_name": "Python 3",
      "name": "python3"
    },
    "language_info": {
      "name": "python"
    },
    "gpuClass": "standard"
  },
  "nbformat": 4,
  "nbformat_minor": 0
}