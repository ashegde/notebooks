{
  "cells": [
    {
      "cell_type": "markdown",
      "metadata": {
        "id": "-yC091qfC5iT"
      },
      "source": [
        "The material in this notebook follows part 5 of Andrej Karpathy's stellar Makemore tutorial (https://www.youtube.com/watch?v=t3YJ5hKiMQ0)"
      ]
    },
    {
      "cell_type": "code",
      "execution_count": 1,
      "metadata": {
        "colab": {
          "base_uri": "https://localhost:8080/"
        },
        "id": "hS3T9u6MiQxp",
        "outputId": "474fda9f-0e42-48ad-cd61-a26352d597e4"
      },
      "outputs": [
        {
          "output_type": "stream",
          "name": "stdout",
          "text": [
            "Cloning into 'makemore'...\n",
            "remote: Enumerating objects: 64, done.\u001b[K\n",
            "remote: Counting objects: 100% (17/17), done.\u001b[K\n",
            "remote: Compressing objects: 100% (3/3), done.\u001b[K\n",
            "remote: Total 64 (delta 16), reused 14 (delta 14), pack-reused 47\u001b[K\n",
            "Unpacking objects: 100% (64/64), done.\n"
          ]
        }
      ],
      "source": [
        "import torch\n",
        "import torch.nn.functional as F\n",
        "import matplotlib.pyplot as plt\n",
        "import numpy as np\n",
        "%matplotlib inline\n",
        "\n",
        "!git clone https://github.com/karpathy/makemore"
      ]
    },
    {
      "cell_type": "code",
      "execution_count": 2,
      "metadata": {
        "id": "ZkGfCqJ1q_tD"
      },
      "outputs": [],
      "source": [
        "with open('makemore/names.txt','r') as file:\n",
        "  words = file.read().splitlines()"
      ]
    },
    {
      "cell_type": "code",
      "execution_count": 3,
      "metadata": {
        "colab": {
          "base_uri": "https://localhost:8080/"
        },
        "id": "gKCjx5iWrAKY",
        "outputId": "00e60374-235f-4771-e5ad-07d55f9ee7ce"
      },
      "outputs": [
        {
          "output_type": "stream",
          "name": "stdout",
          "text": [
            "\n",
            " This dataset contains 32033 names\n",
            "\n",
            " The minimum name length is 2.0 characters.\n",
            " \n",
            " The maximum name length is 15.0 characters.\n",
            "\n",
            " The mean name length is  6.12 characters. \n",
            "\n",
            " The associated standard deviation is 1.44 characters.\n",
            " \n"
          ]
        }
      ],
      "source": [
        "word_lengths = torch.tensor([len(w) for w in words]).float()\n",
        "print(\n",
        " f\"\"\"\n",
        " This dataset contains {word_lengths.nelement()} names\\n\n",
        " The minimum name length is {word_lengths.min()} characters.\\n \n",
        " The maximum name length is {word_lengths.max()} characters.\\n\n",
        " The mean name length is  {word_lengths.mean():.2f} characters. \\n\n",
        " The associated standard deviation is {word_lengths.std():.2f} characters.\n",
        " \"\"\"\n",
        " )"
      ]
    },
    {
      "cell_type": "code",
      "execution_count": 4,
      "metadata": {
        "colab": {
          "base_uri": "https://localhost:8080/"
        },
        "id": "V1NQVFWDrGQX",
        "outputId": "cfe730f6-f967-4048-d214-eb78e7d3cd95"
      },
      "outputs": [
        {
          "output_type": "stream",
          "name": "stdout",
          "text": [
            "{0: '.', 1: 'a', 2: 'b', 3: 'c', 4: 'd', 5: 'e', 6: 'f', 7: 'g', 8: 'h', 9: 'i', 10: 'j', 11: 'k', 12: 'l', 13: 'm', 14: 'n', 15: 'o', 16: 'p', 17: 'q', 18: 'r', 19: 's', 20: 't', 21: 'u', 22: 'v', 23: 'w', 24: 'x', 25: 'y', 26: 'z'}\n",
            "27\n"
          ]
        }
      ],
      "source": [
        "#building the character vocabulary and lookup tables to map from characters to integer indices and back\n",
        "\n",
        "chars = ['.']+sorted(list(set(''.join(words))))  #as before, '.' is used as a start/stop/padding special character\n",
        "s_to_i = {s:i for i,s in enumerate(chars)}\n",
        "i_to_s = {i:s for s,i in s_to_i.items()}\n",
        "vocab_size = len(i_to_s)\n",
        "print(i_to_s)\n",
        "print(vocab_size)\n"
      ]
    },
    {
      "cell_type": "code",
      "source": [
        "import random\n",
        "random.seed(42)\n",
        "random.shuffle(words)"
      ],
      "metadata": {
        "id": "5bkUdlfVYZIl"
      },
      "execution_count": 5,
      "outputs": []
    },
    {
      "cell_type": "code",
      "execution_count": 6,
      "metadata": {
        "colab": {
          "base_uri": "https://localhost:8080/"
        },
        "id": "48XyvM0RjqFJ",
        "outputId": "93c9eb49-6051-4c98-83e4-21a2df40812d"
      },
      "outputs": [
        {
          "output_type": "stream",
          "name": "stdout",
          "text": [
            "torch.Size([182625, 8]) torch.Size([182625])\n",
            "torch.Size([22655, 8]) torch.Size([22655])\n",
            "torch.Size([22866, 8]) torch.Size([22866])\n"
          ]
        }
      ],
      "source": [
        "block_size = 8 #context length, size of the block that supports the prediction: P(x_n| x_{n-1}, x_{n-2}, x_{n-3} )\n",
        "\n",
        "def build_dataset(words):\n",
        "  X,Y = [], []\n",
        "\n",
        "  for w in words:\n",
        "    #print(w)\n",
        "    context = [0] * block_size #init context using indices of chars\n",
        "    for ch in w+'.':\n",
        "      ix = s_to_i[ch]\n",
        "      X.append(context)\n",
        "      Y.append(ix)\n",
        "      #print(''.join(i_to_s[i] for i in context), '--->', i_to_s[ix]) #context ---> current, training pattern\n",
        "      context = context[1:]+[ix]\n",
        "\n",
        "  X = torch.tensor(X)\n",
        "  Y = torch.tensor(Y)\n",
        "  print(X.shape,Y.shape)\n",
        "  return X,Y\n",
        "\n",
        "#training split (used to train parameters), dev/validation split (used to train hyperparameters), test split (at end with the final model)\n",
        "# 80%, 10%, 10%\n",
        "\n",
        "n1 = int(0.8*len(words))\n",
        "n2 = int(0.9*len(words))\n",
        "\n",
        "Xtr, Ytr = build_dataset(words[:n1])\n",
        "Xdev, Ydev = build_dataset(words[n1:n2])\n",
        "Xte, Yte = build_dataset(words[n2:])"
      ]
    },
    {
      "cell_type": "code",
      "source": [
        "## For understanding, let's take a look at how we have engineered our dataset\n",
        "for x,y in zip(Xtr[:22], Ytr[:22]):\n",
        "  print(''.join(i_to_s[ix.item()] for ix in x), '--->', i_to_s[y.item()])"
      ],
      "metadata": {
        "colab": {
          "base_uri": "https://localhost:8080/"
        },
        "id": "xS9AbZOEEd5U",
        "outputId": "bcbe3d1a-ecf6-46fc-86e5-1683c67b6fb1"
      },
      "execution_count": 7,
      "outputs": [
        {
          "output_type": "stream",
          "name": "stdout",
          "text": [
            "........ ---> y\n",
            ".......y ---> u\n",
            "......yu ---> h\n",
            ".....yuh ---> e\n",
            "....yuhe ---> n\n",
            "...yuhen ---> g\n",
            "..yuheng ---> .\n",
            "........ ---> d\n",
            ".......d ---> i\n",
            "......di ---> o\n",
            ".....dio ---> n\n",
            "....dion ---> d\n",
            "...diond ---> r\n",
            "..diondr ---> e\n",
            ".diondre ---> .\n",
            "........ ---> x\n",
            ".......x ---> a\n",
            "......xa ---> v\n",
            ".....xav ---> i\n",
            "....xavi ---> e\n",
            "...xavie ---> n\n",
            "..xavien ---> .\n"
          ]
        }
      ]
    },
    {
      "cell_type": "code",
      "source": [
        "################################################################################\n",
        "class Linear:\n",
        "\n",
        "  def __init__(self, fan_in, fan_out, bias=True):\n",
        "    self.weight = torch.randn((fan_in, fan_out)) / fan_in**0.5\n",
        "    self.bias = torch.zeros(fan_out) if bias else None\n",
        "\n",
        "  def __call__(self,x):\n",
        "    self.out = x@self.weight\n",
        "    if self.bias is not None:\n",
        "      self.out += self.bias\n",
        "    return self.out\n",
        "\n",
        "  def parameters(self):\n",
        "    return [self.weight]+([] if self.bias is None else [self.bias])\n",
        "\n",
        "################################################################################\n",
        "class BatchNorm1d:\n",
        "\n",
        "  def __init__(self, dim, eps=1e-5, momentum=0.1):\n",
        "    self.eps = eps\n",
        "    self.momentum = momentum\n",
        "    self.training = True \n",
        "    #parameters to be trained via backprop\n",
        "    self.gamma = torch.ones(dim)\n",
        "    self.beta = torch.zeros(dim)\n",
        "    # running buffers\n",
        "    self.running_mean = torch.zeros(dim)\n",
        "    self.running_var = torch.ones(dim)\n",
        "\n",
        "  def __call__(self,x):\n",
        "    #forward pass\n",
        "    if self.training:\n",
        "      if x.ndim == 2:\n",
        "        dim=0\n",
        "      elif x.ndim == 3:\n",
        "        dim=(0,1)\n",
        "      xmean = x.mean(dim, keepdim=True)\n",
        "      xvar = x.var(dim, keepdim=True)\n",
        "    else:\n",
        "      xmean = self.running_mean\n",
        "      xvar = self.running_var\n",
        "    xhat = (x-xmean)/ torch.sqrt(xvar+self.eps)\n",
        "    self.out = self.gamma * xhat +self.beta\n",
        "    #buffer update\n",
        "    if self.training:\n",
        "      with torch.no_grad():\n",
        "        # exponential moving averages\n",
        "        self.running_mean = (1-self.momentum) * self.running_mean + self.momentum * xmean\n",
        "        self.running_var = (1-self.momentum) * self.running_var + self.momentum * xvar\n",
        "    return self.out\n",
        "\n",
        "  def parameters(self):\n",
        "    return [self.gamma, self.beta]\n",
        "\n",
        "################################################################################\n",
        "class Tanh:\n",
        "  \n",
        "  def __call__(self,x):\n",
        "    self.out = torch.tanh(x)\n",
        "    return self.out\n",
        "  \n",
        "  def parameters(self):\n",
        "    return []\n",
        "\n",
        "################################################################################\n",
        "class Embedding:\n",
        "\n",
        "  def __init__(self, num_embeddings, embedding_dim):\n",
        "    self.weight = torch.randn((num_embeddings, embedding_dim))\n",
        "  \n",
        "  def __call__(self, X):\n",
        "    self.out = self.weight[X]\n",
        "    return self.out\n",
        "\n",
        "  def parameters(self):\n",
        "    return [self.weight]\n",
        "  \n",
        "################################################################################\n",
        "class Flatten:\n",
        "\n",
        "  def __call__(self, x):\n",
        "    self.out = x.view(x.shape[0],-1) #flattens tensor to matrix\n",
        "    return self.out\n",
        "\n",
        "  def parameters(self):\n",
        "    return [] \n",
        "\n",
        "class FlattenConsecutive:\n",
        "\n",
        "  def __init__(self,n):\n",
        "    self.n = n \n",
        "\n",
        "  def __call__(self, x):\n",
        "    #recall x is (batch_size, block_size, embedding_size) \n",
        "    B,T,C = x.shape\n",
        "    x = x.view(B,T//self.n, self.n*C) #flattens tensor to (B, group, n_consecutive_embeddings)\n",
        "    if x.shape[1]==1:\n",
        "      x=x.squeeze(1)\n",
        "    self.out = x\n",
        "    return self.out\n",
        "\n",
        "  def parameters(self):\n",
        "    return [] \n",
        "\n",
        "################################################################################\n",
        "class Sequential:\n",
        "\n",
        "  def __init__(self, layers):\n",
        "    self.layers = layers\n",
        "\n",
        "  def __call__(self,x):\n",
        "    for layer in self.layers:\n",
        "      x = layer(x)\n",
        "    self.out = x\n",
        "    return self.out\n",
        "\n",
        "  def parameters(self):\n",
        "    return [p for layer in self.layers for p in layer.parameters()]"
      ],
      "metadata": {
        "id": "yYZvedRpFDU0"
      },
      "execution_count": 57,
      "outputs": []
    },
    {
      "cell_type": "code",
      "source": [
        "torch.manual_seed(42) #seed rng instead of using a generator all of the time"
      ],
      "metadata": {
        "colab": {
          "base_uri": "https://localhost:8080/"
        },
        "id": "XUvjCqXbF8uc",
        "outputId": "724c8d8c-be3a-4756-d3ba-9e53bb51d982"
      },
      "execution_count": 58,
      "outputs": [
        {
          "output_type": "execute_result",
          "data": {
            "text/plain": [
              "<torch._C.Generator at 0x7f6c40895c70>"
            ]
          },
          "metadata": {},
          "execution_count": 58
        }
      ]
    },
    {
      "cell_type": "code",
      "execution_count": 70,
      "metadata": {
        "id": "FGm9mrpr61Kv",
        "colab": {
          "base_uri": "https://localhost:8080/"
        },
        "outputId": "3e7504d1-50f5-4d7b-bd94-a6e345e52254"
      },
      "outputs": [
        {
          "output_type": "stream",
          "name": "stdout",
          "text": [
            "76579\n"
          ]
        }
      ],
      "source": [
        "n_embd = 24\n",
        "n_hidden = 128\n",
        "\n",
        "\n",
        "model = Sequential([\n",
        "    Embedding(vocab_size, n_embd),                                               # (batch_size, block_size, n_embd)\n",
        "    FlattenConsecutive(2),                                                       # (batch_size, block_size//2, 2*n_embd) \n",
        "    Linear(n_embd*2, n_hidden, bias=False), BatchNorm1d(n_hidden), Tanh(),       # (batch_size, block_size//2, n_hidden)\n",
        "    FlattenConsecutive(2),                                                       # (batch_size, block_size//4, 2*n_hidden) \n",
        "    Linear(n_hidden*2, n_hidden, bias=False), BatchNorm1d(n_hidden), Tanh(),     # (batch_size, block_size//4, n_hidden)\n",
        "    FlattenConsecutive(2),                                                       # (batch_size, block_size//8, n_hidden)\n",
        "    Linear(n_hidden*2, n_hidden, bias=False), BatchNorm1d(n_hidden), Tanh(),     # (batch_size, block_size//8, n_hidden)\n",
        "    Linear(n_hidden, vocab_size),                                                # (batch_size, block_size//8, vocab_size)\n",
        "])\n",
        "\n",
        "with torch.no_grad():\n",
        "  # last layer: make less confident / more balanced\n",
        "  model.layers[-1].weight *= 0.1\n",
        "\n",
        "parameters = model.parameters()\n",
        "print(sum(p.nelement() for p in parameters))\n",
        "for p in parameters:\n",
        "  p.requires_grad = True"
      ]
    },
    {
      "cell_type": "code",
      "source": [
        "## TESTING\n",
        "ix = torch.randint(0, Xtr.shape[0], (4,))\n",
        "Xb, Yb = Xtr[ix], Ytr[ix]\n",
        "logits = model(Xb)\n",
        "for layer in model.layers:\n",
        "  print(layer.__class__.__name__, ':', tuple(layer.out.shape))\n",
        "  # recall that in FlattenConsecutive we squeeze out unused dimensions..."
      ],
      "metadata": {
        "colab": {
          "base_uri": "https://localhost:8080/"
        },
        "id": "JO2yaplJ0mP0",
        "outputId": "4e99faaf-bcdd-4c69-abb6-55d84c83937b"
      },
      "execution_count": 71,
      "outputs": [
        {
          "output_type": "stream",
          "name": "stdout",
          "text": [
            "Embedding : (4, 8, 24)\n",
            "FlattenConsecutive : (4, 4, 48)\n",
            "Linear : (4, 4, 128)\n",
            "BatchNorm1d : (4, 4, 128)\n",
            "Tanh : (4, 4, 128)\n",
            "FlattenConsecutive : (4, 2, 256)\n",
            "Linear : (4, 2, 128)\n",
            "BatchNorm1d : (4, 2, 128)\n",
            "Tanh : (4, 2, 128)\n",
            "FlattenConsecutive : (4, 256)\n",
            "Linear : (4, 128)\n",
            "BatchNorm1d : (4, 128)\n",
            "Tanh : (4, 128)\n",
            "Linear : (4, 27)\n"
          ]
        }
      ]
    },
    {
      "cell_type": "code",
      "execution_count": 72,
      "metadata": {
        "colab": {
          "base_uri": "https://localhost:8080/"
        },
        "id": "JAL-hd60IpiN",
        "outputId": "f72ec13d-bdba-4e08-a6d7-dd368ffc8aef"
      },
      "outputs": [
        {
          "output_type": "stream",
          "name": "stdout",
          "text": [
            "      0 /  200000: 3.3105\n",
            "  10000 /  200000: 2.0837\n",
            "  20000 /  200000: 2.0241\n",
            "  30000 /  200000: 1.6654\n",
            "  40000 /  200000: 2.3560\n",
            "  50000 /  200000: 1.8367\n",
            "  60000 /  200000: 2.1792\n",
            "  70000 /  200000: 1.8827\n",
            "  80000 /  200000: 2.0535\n",
            "  90000 /  200000: 1.7652\n",
            " 100000 /  200000: 1.7096\n",
            " 110000 /  200000: 1.8092\n",
            " 120000 /  200000: 1.7567\n",
            " 130000 /  200000: 1.9996\n",
            " 140000 /  200000: 1.4899\n",
            " 150000 /  200000: 1.8127\n",
            " 160000 /  200000: 1.7468\n",
            " 170000 /  200000: 1.6533\n",
            " 180000 /  200000: 1.5664\n",
            " 190000 /  200000: 1.8166\n"
          ]
        }
      ],
      "source": [
        "# optimization (same as in previous sections)\n",
        "max_steps = 200000\n",
        "batch_size = 32\n",
        "lossi = []\n",
        "ud = []\n",
        "\n",
        "for i in range(max_steps):\n",
        "\n",
        "  # constructing minibatch \n",
        "  ix = torch.randint(0, Xtr.shape[0], (batch_size,))\n",
        "  Xb, Yb = Xtr[ix], Ytr[ix]\n",
        "\n",
        "  # forward pass\n",
        "  logits = model(Xb)\n",
        "  loss = F.cross_entropy(logits,Yb)\n",
        "\n",
        "  # backward pass\n",
        "  for p in parameters:\n",
        "    p.grad = None\n",
        "  loss.backward()\n",
        "\n",
        "  # update\n",
        "  lr = 0.1 if i<100000 else 0.01\n",
        "  for p in parameters:\n",
        "    p.data += -lr * p.grad\n",
        "\n",
        "  # track stats\n",
        "  if i % 10000 == 0:\n",
        "    print(f'{i:7d} / {max_steps:7d}: {loss.item():.4f}') #prints the batch loss\n",
        "  lossi.append(loss.log10().item())\n"
      ]
    },
    {
      "cell_type": "code",
      "execution_count": 73,
      "metadata": {
        "colab": {
          "base_uri": "https://localhost:8080/",
          "height": 295
        },
        "id": "PdA7LkKWIyLj",
        "outputId": "b37fd5c1-67ed-4dec-deff-d37ad280d625"
      },
      "outputs": [
        {
          "output_type": "display_data",
          "data": {
            "text/plain": [
              "<Figure size 432x288 with 1 Axes>"
            ],
            "image/png": "[encoded data removed]"
          },
          "metadata": {
            "needs_background": "light"
          }
        }
      ],
      "source": [
        "#Plot the loss\n",
        "plt.plot(lossi)\n",
        "plt.title('loss')\n",
        "plt.xlabel('steps')\n",
        "plt.show()"
      ]
    },
    {
      "cell_type": "code",
      "source": [
        "#averaged loss to remove some noise\n",
        "plt.plot(torch.tensor(lossi).view(-1,1000).mean(dim=1))"
      ],
      "metadata": {
        "colab": {
          "base_uri": "https://localhost:8080/",
          "height": 283
        },
        "id": "8rEllCcwJraU",
        "outputId": "64a5bd12-3c03-465e-e456-e8f231bb4ec5"
      },
      "execution_count": 74,
      "outputs": [
        {
          "output_type": "execute_result",
          "data": {
            "text/plain": [
              "[<matplotlib.lines.Line2D at 0x7f6c33b83dd0>]"
            ]
          },
          "metadata": {},
          "execution_count": 74
        },
        {
          "output_type": "display_data",
          "data": {
            "text/plain": [
              "<Figure size 432x288 with 1 Axes>"
            ],
            "image/png": "[encoded data removed]"
          },
          "metadata": {
            "needs_background": "light"
          }
        }
      ]
    },
    {
      "cell_type": "code",
      "execution_count": 75,
      "metadata": {
        "id": "itcmfadQegdz"
      },
      "outputs": [],
      "source": [
        "#first we have to put the network in evaluation mode\n",
        "for layer in model.layers:\n",
        "    if isinstance(layer, BatchNorm1d):\n",
        "      layer.training = False"
      ]
    },
    {
      "cell_type": "code",
      "execution_count": 76,
      "metadata": {
        "colab": {
          "base_uri": "https://localhost:8080/"
        },
        "id": "1saR8d6vJCO1",
        "outputId": "2f28d65e-6f2b-4b27-836f-301ab8f8a91c"
      },
      "outputs": [
        {
          "output_type": "stream",
          "name": "stdout",
          "text": [
            "train 1.7820684909820557\n",
            "test 1.9864420890808105\n"
          ]
        }
      ],
      "source": [
        "# training loss\n",
        "@torch.no_grad()\n",
        "def split_loss(split):\n",
        "  x,y = { \n",
        "      'train': (Xtr, Ytr),\n",
        "      'val': (Xdev,Ydev),\n",
        "      'test': (Xte,Yte),\n",
        "  }[split]\n",
        "  logits = model(x)\n",
        "  loss = F.cross_entropy(logits, y)\n",
        "  print(split, loss.item())\n",
        "  \n",
        "split_loss('train')\n",
        "split_loss('test')"
      ]
    },
    {
      "cell_type": "code",
      "execution_count": 77,
      "metadata": {
        "colab": {
          "base_uri": "https://localhost:8080/"
        },
        "id": "sKvylD7gJFGg",
        "outputId": "f5537d79-f3dd-4570-f195-6645828f5726"
      },
      "outputs": [
        {
          "output_type": "stream",
          "name": "stdout",
          "text": [
            "brallin.\n",
            "travole.\n",
            "izabella.\n",
            "deilene.\n",
            "evelina.\n",
            "jaleah.\n",
            "arthonia.\n",
            "liandra.\n",
            "ephreya.\n",
            "leiah.\n",
            "daysus.\n",
            "leanthamide.\n",
            "afdi.\n",
            "janniel.\n",
            "kaetum.\n",
            "eliannyn.\n",
            "auden.\n",
            "fitzalia.\n",
            "ash.\n",
            "sofia.\n"
          ]
        }
      ],
      "source": [
        "for _ in range(20):\n",
        "  out = []\n",
        "  context = [0] * block_size #starting context window ... (1,block_size)\n",
        "  while True:\n",
        "    logits = model(torch.tensor([context])) #(batch_size, block_size, n_embed), embeds characters into vector space\n",
        "    probs = F.softmax(logits,dim=1) # get the output distribution on the characters\n",
        "    ix = torch.multinomial(probs, num_samples=1).item()\n",
        "    context = context[1:]+[ix] #shifts the context window to the right one character (now includes ix)\n",
        "    out.append(ix)\n",
        "    if ix == 0: #terminate at character '.'\n",
        "      break\n",
        "  print(''.join(i_to_s[i] for i in out))"
      ]
    }
  ],
  "metadata": {
    "colab": {
      "provenance": []
    },
    "kernelspec": {
      "display_name": "Python 3",
      "name": "python3"
    },
    "language_info": {
      "name": "python"
    },
    "gpuClass": "standard"
  },
  "nbformat": 4,
  "nbformat_minor": 0
}