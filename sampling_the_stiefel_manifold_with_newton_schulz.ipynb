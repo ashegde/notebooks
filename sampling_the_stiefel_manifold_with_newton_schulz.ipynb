{
  "nbformat": 4,
  "nbformat_minor": 0,
  "metadata": {
    "colab": {
      "provenance": [],
      "authorship_tag": "ABX9TyOVSnnzwYSsfAAvICNhBt1R",
      "include_colab_link": true
    },
    "kernelspec": {
      "name": "python3",
      "display_name": "Python 3"
    },
    "language_info": {
      "name": "python"
    }
  },
  "cells": [
    {
      "cell_type": "markdown",
      "metadata": {
        "id": "view-in-github",
        "colab_type": "text"
      },
      "source": [
        "<a href=\"https://colab.research.google.com/github/ashegde/notebooks/blob/main/sampling_the_stiefel_manifold_with_newton_schulz.ipynb\" target=\"_parent\"><img src=\"https://colab.research.google.com/assets/colab-badge.svg\" alt=\"Open In Colab\"/></a>"
      ]
    },
    {
      "cell_type": "code",
      "execution_count": null,
      "metadata": {
        "id": "odXCww-LoXua"
      },
      "outputs": [],
      "source": [
        "\"\"\"\n",
        "In this notebook, we sample uniform random m-by-k matrices X from the Stiefel manifold V_{k,m} (X'X = I_{k-by-k}).\n",
        "Note, this implies that (a) the k m-dimensional columns of X are orthonormal and (b) m >= k -- i.e.,\n",
        "nrows >= ncols.\n",
        "\n",
        "The function below implements the following method based on Theorem 2.2.1 of\n",
        "\n",
        "Chikuse, Y. (2003). Statistics on special manifolds (Vol. 174). Springer Science & Business Media.\n",
        "\n",
        "Part (iii) of this theorem states that if X is uniformly distributed on V_{k,m}, it can be expressed as X = Z(Z'Z)^{-0.5} where Z\n",
        "is an m-by-k matrix with entries independent and identically distributed as N(0,1).\n",
        "\n",
        "If we take the SVD of Z: Z = USV', we can rewrite X as X = UV'. Thus, we can sample X\n",
        "by generating Z and then use Newton-Schulz iteration to drive the singular values to unity.\n",
        "Specifically, we use the Newton-Schultz iteration suggested in,\n",
        "\n",
        "Bernstein, J., & Newhouse, L. (2024). Modular Duality in Deep Learning. arXiv preprint arXiv:2410.21265.\n",
        "\"\"\""
      ]
    },
    {
      "cell_type": "code",
      "source": [
        "from typing import Callable\n",
        "\n",
        "import numpy as np\n",
        "import matplotlib.pyplot as plt"
      ],
      "metadata": {
        "id": "tuA5gFRWqMxo"
      },
      "execution_count": null,
      "outputs": []
    },
    {
      "cell_type": "code",
      "source": [
        "\n",
        "def newton_schulz(A: np.array, n_steps: int = 15, eps: float = 1e-9) -> np.array:\n",
        "  \"\"\"\n",
        "  Rectangular Newton-Schulz Iteration\n",
        "\n",
        "  iterate: X = 1.5 X - 0.5 XX'X\n",
        "  \"\"\"\n",
        "  # normalize to ensure singular values of A are\n",
        "  # contained in between 0 and \\sqrt{3}.\n",
        "  X = A / (eps + np.linalg.norm(A, ord = 'fro'))\n",
        "\n",
        "  for _ in range(n_steps):\n",
        "      X = 1.5 * X - 0.5 * X @ X.T @ X\n",
        "  return X\n",
        "\n",
        "def rstiefel(gain: float = 1.0, n_steps: int = 15) -> Callable[[np.array], np.array]:\n",
        "\n",
        "    def initializer(a: np.array) -> np.array:\n",
        "        if a.ndim < 2:\n",
        "            raise ValueError(\"Only arrays with 2 or more dimensions are supported\")\n",
        "\n",
        "        if a.size == 0:\n",
        "            # do nothing\n",
        "            return a\n",
        "\n",
        "        # flattened dims\n",
        "        nrows = a.shape[0]\n",
        "        ncols = a.size // nrows\n",
        "        flattened = np.random.normal(size=(nrows, ncols), scale=1.0, loc=0.0)\n",
        "        if nrows < ncols: # ensures m >= k\n",
        "            flattened = flattened.T\n",
        "\n",
        "        # it seems that linalg.qr only works on cpu\n",
        "        x = newton_schulz(flattened, n_steps)\n",
        "\n",
        "        if nrows < ncols:\n",
        "            x = x.T\n",
        "\n",
        "        return gain * x\n",
        "\n",
        "    return initializer"
      ],
      "metadata": {
        "id": "IFrD7oCk6KZr"
      },
      "execution_count": null,
      "outputs": []
    },
    {
      "cell_type": "code",
      "source": [
        "init_fn = rstiefel()\n",
        "\n",
        "tmp = np.zeros((100, 10))\n",
        "w = init_fn(tmp)\n",
        "\n",
        "# w is semi-orthogonal\n",
        "fig, axs = plt.subplots(1, 2, layout='constrained', figsize=(8, 4))\n",
        "axs[0].imshow(w.T@w)\n",
        "axs[0].set_title(f'w.T @ w')\n",
        "axs[1].imshow(w@w.T)\n",
        "axs[1].set_title(f'w @ w.T')\n",
        "\n",
        "plt.show()"
      ],
      "metadata": {
        "id": "BJBokzGA62K2"
      },
      "execution_count": null,
      "outputs": []
    }
  ]
}