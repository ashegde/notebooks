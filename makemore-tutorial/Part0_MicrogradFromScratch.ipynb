{
  "nbformat": 4,
  "nbformat_minor": 0,
  "metadata": {
    "colab": {
      "provenance": [],
      "collapsed_sections": []
    },
    "kernelspec": {
      "name": "python3",
      "display_name": "Python 3"
    },
    "language_info": {
      "name": "python"
    }
  },
  "cells": [
    {
      "cell_type": "markdown",
      "source": [
        "In this notebook, we follow Andrej Karpathy's brilliant tutorial (https://www.youtube.com/watch?v=VMj-3S1tku0) on building a simple automatic differentiation engine for scalar valued variables."
      ],
      "metadata": {
        "id": "6cO9WnHoSBYv"
      }
    },
    {
      "cell_type": "code",
      "source": [
        "import math\n",
        "import numpy as np\n",
        "import matplotlib.pyplot as plt \n",
        "%matplotlib inline"
      ],
      "metadata": {
        "id": "Z3aqmpkbSiJ4"
      },
      "execution_count": null,
      "outputs": []
    },
    {
      "cell_type": "code",
      "source": [
        "# first we build a data structure to keep track of operations\n",
        "class Value:\n",
        "\n",
        "  def __init__(self, data, _children=(), _op='',label=''):\n",
        "    self.data = data\n",
        "    self.grad = 0.0\n",
        "    self._backward = lambda: None \n",
        "    self._prev = set(_children)\n",
        "    self._op = _op\n",
        "    self.label = label\n",
        "\n",
        "  def __repr__(self):\n",
        "    return f\"Value(data={self.data}, label={self.label})\"\n",
        "\n",
        "  def __neg__(self): #-self\n",
        "    return self * -1\n",
        "\n",
        "  def __add__(self, other): #order: self + other\n",
        "    other = other if isinstance(other,Value) else Value(other)\n",
        "    out = Value(self.data + other.data, (self, other), _op='+')\n",
        "    def _backward():\n",
        "      self.grad += 1.0 * out.grad\n",
        "      other.grad += 1.0 * out.grad\n",
        "    out._backward = _backward\n",
        "    return out\n",
        "\n",
        "  def __radd__(self, other): #order: other + self\n",
        "    return self + other\n",
        "\n",
        "  def __sub__(self, other): #order: self - other\n",
        "    return self + (-other)\n",
        "\n",
        "  def __mul__(self, other): #order: self * other\n",
        "    other = other if isinstance(other,Value) else Value(other)\n",
        "    out = Value(self.data * other.data, (self, other), _op='*')\n",
        "    def _backward():\n",
        "      self.grad += other.data * out.grad\n",
        "      other.grad += self.data * out.grad\n",
        "    out._backward = _backward\n",
        "    return out\n",
        "  \n",
        "  def __pow__(self,deg):\n",
        "    #assuming other is a constant and not a variable\n",
        "    assert(isinstance(deg, (int, float)), \"only supports powers that are int or float\")\n",
        "    out = Value(self.data ** deg, (self,), _op=f'**{str(deg)}')\n",
        "    def _backward():\n",
        "      self.grad += deg * self.data ** (deg-1)  * out.grad\n",
        "    out._backward = _backward\n",
        "    return out\n",
        "\n",
        "  def __truediv__(self, other): #order: self / other\n",
        "    return self * other**-1\n",
        "\n",
        "  def __rmul__(self,other): # order: other * self (reversed order)\n",
        "    return self*other\n",
        "\n",
        "  def tanh(self):\n",
        "    n = self.data\n",
        "    t = (math.exp(2*n) - 1)/(math.exp(2*n)+1)\n",
        "    out = Value(t, (self,), _op='tanh')\n",
        "    def _backward():\n",
        "      self.grad += (1-t**2) * out.grad\n",
        "    out._backward = _backward\n",
        "    return out\n",
        "\n",
        "  def exp(self):\n",
        "    x = self.data\n",
        "    t = math.exp(x)\n",
        "    out = Value(t, (self,), _op='exp')\n",
        "    def _backward():\n",
        "      self.grad += t * out.grad\n",
        "    out._backward = _backward\n",
        "    return out\n",
        "\n",
        "  def backward(self):\n",
        "    # build topological order\n",
        "    topo=[]\n",
        "    visited = set()\n",
        "    def build_topo(v):\n",
        "      if v not in visited:\n",
        "        visited.add(v)\n",
        "        for child in v._prev: # all children are added recursively to topo before the parent (v)\n",
        "          build_topo(child)\n",
        "        topo.append(v) #append parent after all children\n",
        "    build_topo(self)\n",
        "    self.grad = 1.0\n",
        "    for node in reversed(topo):\n",
        "      node._backward()"
      ],
      "metadata": {
        "id": "aeVgh_rfY7jW",
        "colab": {
          "base_uri": "https://localhost:8080/"
        },
        "outputId": "103447d1-8dcd-454d-ace2-8eeadeb135c3"
      },
      "execution_count": null,
      "outputs": [
        {
          "output_type": "stream",
          "name": "stderr",
          "text": [
            "<>:44: SyntaxWarning: assertion is always true, perhaps remove parentheses?\n",
            "<>:44: SyntaxWarning: assertion is always true, perhaps remove parentheses?\n",
            "<>:44: SyntaxWarning: assertion is always true, perhaps remove parentheses?\n",
            "<ipython-input-83-ee69283a1e69>:44: SyntaxWarning: assertion is always true, perhaps remove parentheses?\n",
            "  assert(isinstance(deg, (int, float)), \"only supports powers that are int or float\")\n"
          ]
        }
      ]
    },
    {
      "cell_type": "code",
      "source": [
        "# visualization\n",
        "from graphviz import Digraph\n",
        "\n",
        "def trace(root): #builds a graph from a Value object\n",
        "  nodes, edges = set(), set()\n",
        "  def build(v):\n",
        "    if v not in nodes:\n",
        "      nodes.add(v)\n",
        "      for child in v._prev:\n",
        "        edges.add((child,v))\n",
        "        build(child)\n",
        "  build(root)\n",
        "  return nodes, edges\n",
        "\n",
        "def draw_dot(root): #visualizes graph from value object\n",
        "  dot = Digraph(format='svg', graph_attr={'rankdir': 'LR'}) #LR = left to right\n",
        "\n",
        "  nodes, edges = trace(root)\n",
        "  for n in nodes:\n",
        "    uid = str(id(n))\n",
        "\n",
        "    dot.node(name = uid, label=\"{ %s | data %.4f | grad %.4f }\" % (n.label, n.data, n.grad), shape = 'record')\n",
        "    if n._op:\n",
        "      dot.node(name=uid+n._op, label = n._op)\n",
        "      dot.edge(uid + n._op, uid)\n",
        "  for n1,n2 in edges:\n",
        "    dot.edge(str(id(n1)), str(id(n2))+n2._op)\n",
        "  \n",
        "  return dot"
      ],
      "metadata": {
        "id": "bIFeCppRdrJ8"
      },
      "execution_count": null,
      "outputs": []
    },
    {
      "cell_type": "markdown",
      "source": [
        "## In the following, we explore a bunch of toy examples as we build out the Value class capabilities."
      ],
      "metadata": {
        "id": "GMuS8FPM0SfX"
      }
    },
    {
      "cell_type": "code",
      "source": [
        "#toy example\n",
        "\n",
        "a = Value(2.0, label='a')\n",
        "b = Value(-3.0, label='b')\n",
        "c = Value(10.0, label='c')\n",
        "e = a*b; e.label='e'\n",
        "d =  e + c; d.label = 'd'\n",
        "f = Value(-2.0, label='f')\n",
        "L = d * f; L.label='L'"
      ],
      "metadata": {
        "id": "KFGZG4sHjDoJ"
      },
      "execution_count": null,
      "outputs": []
    },
    {
      "cell_type": "code",
      "source": [
        "g = draw_dot(L)\n",
        "g"
      ],
      "metadata": {
        "colab": {
          "base_uri": "https://localhost:8080/",
          "height": 249
        },
        "id": "Ro3NBiWVn9_p",
        "outputId": "fa148a6a-72b5-4a88-d8f5-f8b4057446ba"
      },
      "execution_count": null,
      "outputs": [
        {
          "output_type": "execute_result",
          "data": {
            "text/plain": [
              "<graphviz.dot.Digraph at 0x7ff6ceb435d0>"
            ],
            "image/svg+xml": "<?xml version=\"1.0\" encoding=\"UTF-8\" standalone=\"no\"?>\n<!DOCTYPE svg PUBLIC \"-//W3C//DTD SVG 1.1//EN\"\n \"http://www.w3.org/Graphics/SVG/1.1/DTD/svg11.dtd\">\n<!-- Generated by graphviz version 2.40.1 (20161225.0304)\n -->\n<!-- Title: %3 Pages: 1 -->\n<svg width=\"1187pt\" height=\"156pt\"\n viewBox=\"0.00 0.00 1187.00 156.00\" xmlns=\"http://www.w3.org/2000/svg\" xmlns:xlink=\"http://www.w3.org/1999/xlink\">\n<g id=\"graph0\" class=\"graph\" transform=\"scale(1 1) rotate(0) translate(4 152)\">\n<title>%3</title>\n<polygon fill=\"#ffffff\" stroke=\"transparent\" points=\"-4,4 -4,-152 1183,-152 1183,4 -4,4\"/>\n<!-- 140698006599696 -->\n<g id=\"node1\" class=\"node\">\n<title>140698006599696</title>\n<polygon fill=\"none\" stroke=\"#000000\" points=\"0,-111.5 0,-147.5 200,-147.5 200,-111.5 0,-111.5\"/>\n<text text-anchor=\"middle\" x=\"12\" y=\"-125.8\" font-family=\"Times,serif\" font-size=\"14.00\" fill=\"#000000\">b</text>\n<polyline fill=\"none\" stroke=\"#000000\" points=\"24,-111.5 24,-147.5 \"/>\n<text text-anchor=\"middle\" x=\"68.5\" y=\"-125.8\" font-family=\"Times,serif\" font-size=\"14.00\" fill=\"#000000\">data &#45;3.0000</text>\n<polyline fill=\"none\" stroke=\"#000000\" points=\"113,-111.5 113,-147.5 \"/>\n<text text-anchor=\"middle\" x=\"156.5\" y=\"-125.8\" font-family=\"Times,serif\" font-size=\"14.00\" fill=\"#000000\">grad 0.0000</text>\n</g>\n<!-- 140698006599888* -->\n<g id=\"node6\" class=\"node\">\n<title>140698006599888*</title>\n<ellipse fill=\"none\" stroke=\"#000000\" cx=\"263\" cy=\"-101.5\" rx=\"27\" ry=\"18\"/>\n<text text-anchor=\"middle\" x=\"263\" y=\"-97.8\" font-family=\"Times,serif\" font-size=\"14.00\" fill=\"#000000\">*</text>\n</g>\n<!-- 140698006599696&#45;&gt;140698006599888* -->\n<g id=\"edge6\" class=\"edge\">\n<title>140698006599696&#45;&gt;140698006599888*</title>\n<path fill=\"none\" stroke=\"#000000\" d=\"M200.4461,-112.2455C209.7389,-110.6491 218.6838,-109.1126 226.7604,-107.7252\"/>\n<polygon fill=\"#000000\" stroke=\"#000000\" points=\"227.5708,-111.1374 236.8338,-105.9948 226.3856,-104.2384 227.5708,-111.1374\"/>\n</g>\n<!-- 140698006651408 -->\n<g id=\"node2\" class=\"node\">\n<title>140698006651408</title>\n<polygon fill=\"none\" stroke=\"#000000\" points=\"654,-.5 654,-36.5 851,-36.5 851,-.5 654,-.5\"/>\n<text text-anchor=\"middle\" x=\"664.5\" y=\"-14.8\" font-family=\"Times,serif\" font-size=\"14.00\" fill=\"#000000\">f</text>\n<polyline fill=\"none\" stroke=\"#000000\" points=\"675,-.5 675,-36.5 \"/>\n<text text-anchor=\"middle\" x=\"719.5\" y=\"-14.8\" font-family=\"Times,serif\" font-size=\"14.00\" fill=\"#000000\">data &#45;2.0000</text>\n<polyline fill=\"none\" stroke=\"#000000\" points=\"764,-.5 764,-36.5 \"/>\n<text text-anchor=\"middle\" x=\"807.5\" y=\"-14.8\" font-family=\"Times,serif\" font-size=\"14.00\" fill=\"#000000\">grad 0.0000</text>\n</g>\n<!-- 140698006651792* -->\n<g id=\"node8\" class=\"node\">\n<title>140698006651792*</title>\n<ellipse fill=\"none\" stroke=\"#000000\" cx=\"914\" cy=\"-45.5\" rx=\"27\" ry=\"18\"/>\n<text text-anchor=\"middle\" x=\"914\" y=\"-41.8\" font-family=\"Times,serif\" font-size=\"14.00\" fill=\"#000000\">*</text>\n</g>\n<!-- 140698006651408&#45;&gt;140698006651792* -->\n<g id=\"edge4\" class=\"edge\">\n<title>140698006651408&#45;&gt;140698006651792*</title>\n<path fill=\"none\" stroke=\"#000000\" d=\"M851.0974,-34.9838C860.4127,-36.5411 869.3943,-38.0427 877.5123,-39.3999\"/>\n<polygon fill=\"#000000\" stroke=\"#000000\" points=\"877.2018,-42.8965 887.6421,-41.0934 878.3562,-35.9923 877.2018,-42.8965\"/>\n</g>\n<!-- 140698006599760 -->\n<g id=\"node3\" class=\"node\">\n<title>140698006599760</title>\n<polygon fill=\"none\" stroke=\"#000000\" points=\"2.5,-56.5 2.5,-92.5 197.5,-92.5 197.5,-56.5 2.5,-56.5\"/>\n<text text-anchor=\"middle\" x=\"14\" y=\"-70.8\" font-family=\"Times,serif\" font-size=\"14.00\" fill=\"#000000\">a</text>\n<polyline fill=\"none\" stroke=\"#000000\" points=\"25.5,-56.5 25.5,-92.5 \"/>\n<text text-anchor=\"middle\" x=\"68\" y=\"-70.8\" font-family=\"Times,serif\" font-size=\"14.00\" fill=\"#000000\">data 2.0000</text>\n<polyline fill=\"none\" stroke=\"#000000\" points=\"110.5,-56.5 110.5,-92.5 \"/>\n<text text-anchor=\"middle\" x=\"154\" y=\"-70.8\" font-family=\"Times,serif\" font-size=\"14.00\" fill=\"#000000\">grad 0.0000</text>\n</g>\n<!-- 140698006599760&#45;&gt;140698006599888* -->\n<g id=\"edge8\" class=\"edge\">\n<title>140698006599760&#45;&gt;140698006599888*</title>\n<path fill=\"none\" stroke=\"#000000\" d=\"M197.6409,-90.6736C207.9722,-92.385 217.943,-94.0366 226.8529,-95.5124\"/>\n<polygon fill=\"#000000\" stroke=\"#000000\" points=\"226.3454,-98.976 236.783,-97.1573 227.4894,-92.0701 226.3454,-98.976\"/>\n</g>\n<!-- 140698006599824 -->\n<g id=\"node4\" class=\"node\">\n<title>140698006599824</title>\n<polygon fill=\"none\" stroke=\"#000000\" points=\"326,-28.5 326,-64.5 528,-64.5 528,-28.5 326,-28.5\"/>\n<text text-anchor=\"middle\" x=\"337.5\" y=\"-42.8\" font-family=\"Times,serif\" font-size=\"14.00\" fill=\"#000000\">c</text>\n<polyline fill=\"none\" stroke=\"#000000\" points=\"349,-28.5 349,-64.5 \"/>\n<text text-anchor=\"middle\" x=\"395\" y=\"-42.8\" font-family=\"Times,serif\" font-size=\"14.00\" fill=\"#000000\">data 10.0000</text>\n<polyline fill=\"none\" stroke=\"#000000\" points=\"441,-28.5 441,-64.5 \"/>\n<text text-anchor=\"middle\" x=\"484.5\" y=\"-42.8\" font-family=\"Times,serif\" font-size=\"14.00\" fill=\"#000000\">grad 0.0000</text>\n</g>\n<!-- 140698006651280+ -->\n<g id=\"node10\" class=\"node\">\n<title>140698006651280+</title>\n<ellipse fill=\"none\" stroke=\"#000000\" cx=\"591\" cy=\"-73.5\" rx=\"27\" ry=\"18\"/>\n<text text-anchor=\"middle\" x=\"591\" y=\"-69.8\" font-family=\"Times,serif\" font-size=\"14.00\" fill=\"#000000\">+</text>\n</g>\n<!-- 140698006599824&#45;&gt;140698006651280+ -->\n<g id=\"edge9\" class=\"edge\">\n<title>140698006599824&#45;&gt;140698006651280+</title>\n<path fill=\"none\" stroke=\"#000000\" d=\"M528.0623,-63.1383C537.4122,-64.6776 546.412,-66.1593 554.5381,-67.4971\"/>\n<polygon fill=\"#000000\" stroke=\"#000000\" points=\"554.2375,-70.9947 564.6733,-69.1657 555.3747,-64.0877 554.2375,-70.9947\"/>\n</g>\n<!-- 140698006599888 -->\n<g id=\"node5\" class=\"node\">\n<title>140698006599888</title>\n<polygon fill=\"none\" stroke=\"#000000\" points=\"327.5,-83.5 327.5,-119.5 526.5,-119.5 526.5,-83.5 327.5,-83.5\"/>\n<text text-anchor=\"middle\" x=\"339\" y=\"-97.8\" font-family=\"Times,serif\" font-size=\"14.00\" fill=\"#000000\">e</text>\n<polyline fill=\"none\" stroke=\"#000000\" points=\"350.5,-83.5 350.5,-119.5 \"/>\n<text text-anchor=\"middle\" x=\"395\" y=\"-97.8\" font-family=\"Times,serif\" font-size=\"14.00\" fill=\"#000000\">data &#45;6.0000</text>\n<polyline fill=\"none\" stroke=\"#000000\" points=\"439.5,-83.5 439.5,-119.5 \"/>\n<text text-anchor=\"middle\" x=\"483\" y=\"-97.8\" font-family=\"Times,serif\" font-size=\"14.00\" fill=\"#000000\">grad 0.0000</text>\n</g>\n<!-- 140698006599888&#45;&gt;140698006651280+ -->\n<g id=\"edge5\" class=\"edge\">\n<title>140698006599888&#45;&gt;140698006651280+</title>\n<path fill=\"none\" stroke=\"#000000\" d=\"M526.6536,-84.486C536.572,-82.7926 546.1287,-81.1609 554.7053,-79.6967\"/>\n<polygon fill=\"#000000\" stroke=\"#000000\" points=\"555.3709,-83.1338 564.6392,-78.0006 554.1928,-76.2336 555.3709,-83.1338\"/>\n</g>\n<!-- 140698006599888*&#45;&gt;140698006599888 -->\n<g id=\"edge1\" class=\"edge\">\n<title>140698006599888*&#45;&gt;140698006599888</title>\n<path fill=\"none\" stroke=\"#000000\" d=\"M290.0813,-101.5C298.0646,-101.5 307.3332,-101.5 317.212,-101.5\"/>\n<polygon fill=\"#000000\" stroke=\"#000000\" points=\"317.2693,-105.0001 327.2693,-101.5 317.2692,-98.0001 317.2693,-105.0001\"/>\n</g>\n<!-- 140698006651792 -->\n<g id=\"node7\" class=\"node\">\n<title>140698006651792</title>\n<polygon fill=\"none\" stroke=\"#000000\" points=\"977,-27.5 977,-63.5 1179,-63.5 1179,-27.5 977,-27.5\"/>\n<text text-anchor=\"middle\" x=\"990\" y=\"-41.8\" font-family=\"Times,serif\" font-size=\"14.00\" fill=\"#000000\">L</text>\n<polyline fill=\"none\" stroke=\"#000000\" points=\"1003,-27.5 1003,-63.5 \"/>\n<text text-anchor=\"middle\" x=\"1047.5\" y=\"-41.8\" font-family=\"Times,serif\" font-size=\"14.00\" fill=\"#000000\">data &#45;8.0000</text>\n<polyline fill=\"none\" stroke=\"#000000\" points=\"1092,-27.5 1092,-63.5 \"/>\n<text text-anchor=\"middle\" x=\"1135.5\" y=\"-41.8\" font-family=\"Times,serif\" font-size=\"14.00\" fill=\"#000000\">grad 0.0000</text>\n</g>\n<!-- 140698006651792*&#45;&gt;140698006651792 -->\n<g id=\"edge2\" class=\"edge\">\n<title>140698006651792*&#45;&gt;140698006651792</title>\n<path fill=\"none\" stroke=\"#000000\" d=\"M941.0813,-45.5C948.631,-45.5 957.3302,-45.5 966.608,-45.5\"/>\n<polygon fill=\"#000000\" stroke=\"#000000\" points=\"966.8754,-49.0001 976.8754,-45.5 966.8754,-42.0001 966.8754,-49.0001\"/>\n</g>\n<!-- 140698006651280 -->\n<g id=\"node9\" class=\"node\">\n<title>140698006651280</title>\n<polygon fill=\"none\" stroke=\"#000000\" points=\"654.5,-55.5 654.5,-91.5 850.5,-91.5 850.5,-55.5 654.5,-55.5\"/>\n<text text-anchor=\"middle\" x=\"666.5\" y=\"-69.8\" font-family=\"Times,serif\" font-size=\"14.00\" fill=\"#000000\">d</text>\n<polyline fill=\"none\" stroke=\"#000000\" points=\"678.5,-55.5 678.5,-91.5 \"/>\n<text text-anchor=\"middle\" x=\"721\" y=\"-69.8\" font-family=\"Times,serif\" font-size=\"14.00\" fill=\"#000000\">data 4.0000</text>\n<polyline fill=\"none\" stroke=\"#000000\" points=\"763.5,-55.5 763.5,-91.5 \"/>\n<text text-anchor=\"middle\" x=\"807\" y=\"-69.8\" font-family=\"Times,serif\" font-size=\"14.00\" fill=\"#000000\">grad 0.0000</text>\n</g>\n<!-- 140698006651280&#45;&gt;140698006651792* -->\n<g id=\"edge7\" class=\"edge\">\n<title>140698006651280&#45;&gt;140698006651792*</title>\n<path fill=\"none\" stroke=\"#000000\" d=\"M850.6344,-56.486C860.2015,-54.8273 869.4268,-53.2279 877.738,-51.7869\"/>\n<polygon fill=\"#000000\" stroke=\"#000000\" points=\"878.4785,-55.2108 887.7336,-50.0539 877.2827,-48.3137 878.4785,-55.2108\"/>\n</g>\n<!-- 140698006651280+&#45;&gt;140698006651280 -->\n<g id=\"edge3\" class=\"edge\">\n<title>140698006651280+&#45;&gt;140698006651280</title>\n<path fill=\"none\" stroke=\"#000000\" d=\"M618.0315,-73.5C625.7623,-73.5 634.6953,-73.5 644.2076,-73.5\"/>\n<polygon fill=\"#000000\" stroke=\"#000000\" points=\"644.3041,-77.0001 654.304,-73.5 644.304,-70.0001 644.3041,-77.0001\"/>\n</g>\n</g>\n</svg>\n"
          },
          "metadata": {},
          "execution_count": 5
        }
      ]
    },
    {
      "cell_type": "code",
      "source": [
        "#another example -- a single neuron\n",
        "x1 = Value(2.0, label='x1')\n",
        "x2 = Value(0.0, label='x2')\n",
        "\n",
        "w1 = Value(-3.0, label='w1')\n",
        "w2 = Value(1.0, label='w2')\n",
        "\n",
        "b = Value(6.7, label='b')\n",
        "\n",
        "x1w1 = x1*w1; x1w1.label = 'x1*w1' \n",
        "x2w2 = x2*w2; x2w2.label='x2*w2'\n",
        "\n",
        "x1w1x2w2 = x1w1 + x2w2; x1w1x2w2.label='x1*w1+x2*w2'\n",
        "n = x1w1x2w2+b; n.label='n'\n",
        "o = n.tanh(); o.label='o'\n",
        "draw_dot(o)"
      ],
      "metadata": {
        "colab": {
          "base_uri": "https://localhost:8080/",
          "height": 321
        },
        "id": "z924AVcSfnIf",
        "outputId": "04ea828f-6f68-4741-96dd-65c1ab6afc6a"
      },
      "execution_count": null,
      "outputs": [
        {
          "output_type": "execute_result",
          "data": {
            "text/plain": [
              "<graphviz.dot.Digraph at 0x7ff6ceb5d290>"
            ],
            "image/svg+xml": "<?xml version=\"1.0\" encoding=\"UTF-8\" standalone=\"no\"?>\n<!DOCTYPE svg PUBLIC \"-//W3C//DTD SVG 1.1//EN\"\n \"http://www.w3.org/Graphics/SVG/1.1/DTD/svg11.dtd\">\n<!-- Generated by graphviz version 2.40.1 (20161225.0304)\n -->\n<!-- Title: %3 Pages: 1 -->\n<svg width=\"1630pt\" height=\"210pt\"\n viewBox=\"0.00 0.00 1630.00 210.00\" xmlns=\"http://www.w3.org/2000/svg\" xmlns:xlink=\"http://www.w3.org/1999/xlink\">\n<g id=\"graph0\" class=\"graph\" transform=\"scale(1 1) rotate(0) translate(4 206)\">\n<title>%3</title>\n<polygon fill=\"#ffffff\" stroke=\"transparent\" points=\"-4,4 -4,-206 1626,-206 1626,4 -4,4\"/>\n<!-- 140698006699024 -->\n<g id=\"node1\" class=\"node\">\n<title>140698006699024</title>\n<polygon fill=\"none\" stroke=\"#000000\" points=\"3.5,-165.5 3.5,-201.5 207.5,-201.5 207.5,-165.5 3.5,-165.5\"/>\n<text text-anchor=\"middle\" x=\"19.5\" y=\"-179.8\" font-family=\"Times,serif\" font-size=\"14.00\" fill=\"#000000\">x1</text>\n<polyline fill=\"none\" stroke=\"#000000\" points=\"35.5,-165.5 35.5,-201.5 \"/>\n<text text-anchor=\"middle\" x=\"78\" y=\"-179.8\" font-family=\"Times,serif\" font-size=\"14.00\" fill=\"#000000\">data 2.0000</text>\n<polyline fill=\"none\" stroke=\"#000000\" points=\"120.5,-165.5 120.5,-201.5 \"/>\n<text text-anchor=\"middle\" x=\"164\" y=\"-179.8\" font-family=\"Times,serif\" font-size=\"14.00\" fill=\"#000000\">grad 0.0000</text>\n</g>\n<!-- 140698006699216* -->\n<g id=\"node8\" class=\"node\">\n<title>140698006699216*</title>\n<ellipse fill=\"none\" stroke=\"#000000\" cx=\"274\" cy=\"-128.5\" rx=\"27\" ry=\"18\"/>\n<text text-anchor=\"middle\" x=\"274\" y=\"-124.8\" font-family=\"Times,serif\" font-size=\"14.00\" fill=\"#000000\">*</text>\n</g>\n<!-- 140698006699024&#45;&gt;140698006699216* -->\n<g id=\"edge8\" class=\"edge\">\n<title>140698006699024&#45;&gt;140698006699216*</title>\n<path fill=\"none\" stroke=\"#000000\" d=\"M182.3017,-165.4558C192.0361,-162.698 201.8026,-159.6955 211,-156.5 221.6243,-152.8088 232.9373,-148.0548 243.0021,-143.5155\"/>\n<polygon fill=\"#000000\" stroke=\"#000000\" points=\"244.5909,-146.6371 252.2061,-139.271 241.6594,-140.2805 244.5909,-146.6371\"/>\n</g>\n<!-- 140698006704208 -->\n<g id=\"node2\" class=\"node\">\n<title>140698006704208</title>\n<polygon fill=\"none\" stroke=\"#000000\" points=\"696,-82.5 696,-118.5 978,-118.5 978,-82.5 696,-82.5\"/>\n<text text-anchor=\"middle\" x=\"749\" y=\"-96.8\" font-family=\"Times,serif\" font-size=\"14.00\" fill=\"#000000\">x1*w1+x2*w2</text>\n<polyline fill=\"none\" stroke=\"#000000\" points=\"802,-82.5 802,-118.5 \"/>\n<text text-anchor=\"middle\" x=\"846.5\" y=\"-96.8\" font-family=\"Times,serif\" font-size=\"14.00\" fill=\"#000000\">data &#45;6.0000</text>\n<polyline fill=\"none\" stroke=\"#000000\" points=\"891,-82.5 891,-118.5 \"/>\n<text text-anchor=\"middle\" x=\"934.5\" y=\"-96.8\" font-family=\"Times,serif\" font-size=\"14.00\" fill=\"#000000\">grad 0.0000</text>\n</g>\n<!-- 140698006704464+ -->\n<g id=\"node13\" class=\"node\">\n<title>140698006704464+</title>\n<ellipse fill=\"none\" stroke=\"#000000\" cx=\"1041\" cy=\"-72.5\" rx=\"27\" ry=\"18\"/>\n<text text-anchor=\"middle\" x=\"1041\" y=\"-68.8\" font-family=\"Times,serif\" font-size=\"14.00\" fill=\"#000000\">+</text>\n</g>\n<!-- 140698006704208&#45;&gt;140698006704464+ -->\n<g id=\"edge11\" class=\"edge\">\n<title>140698006704208&#45;&gt;140698006704464+</title>\n<path fill=\"none\" stroke=\"#000000\" d=\"M968.2153,-82.4901C981.2092,-80.7066 993.5123,-79.0179 1004.179,-77.5539\"/>\n<polygon fill=\"#000000\" stroke=\"#000000\" points=\"1004.8339,-80.9969 1014.2651,-76.1695 1003.882,-74.0619 1004.8339,-80.9969\"/>\n</g>\n<!-- 140698006704208+ -->\n<g id=\"node3\" class=\"node\">\n<title>140698006704208+</title>\n<ellipse fill=\"none\" stroke=\"#000000\" cx=\"633\" cy=\"-100.5\" rx=\"27\" ry=\"18\"/>\n<text text-anchor=\"middle\" x=\"633\" y=\"-96.8\" font-family=\"Times,serif\" font-size=\"14.00\" fill=\"#000000\">+</text>\n</g>\n<!-- 140698006704208+&#45;&gt;140698006704208 -->\n<g id=\"edge1\" class=\"edge\">\n<title>140698006704208+&#45;&gt;140698006704208</title>\n<path fill=\"none\" stroke=\"#000000\" d=\"M660.0896,-100.5C667.5706,-100.5 676.2497,-100.5 685.6679,-100.5\"/>\n<polygon fill=\"#000000\" stroke=\"#000000\" points=\"685.7311,-104.0001 695.7311,-100.5 685.731,-97.0001 685.7311,-104.0001\"/>\n</g>\n<!-- 140698006704720 -->\n<g id=\"node4\" class=\"node\">\n<title>140698006704720</title>\n<polygon fill=\"none\" stroke=\"#000000\" points=\"1426,-54.5 1426,-90.5 1622,-90.5 1622,-54.5 1426,-54.5\"/>\n<text text-anchor=\"middle\" x=\"1438\" y=\"-68.8\" font-family=\"Times,serif\" font-size=\"14.00\" fill=\"#000000\">o</text>\n<polyline fill=\"none\" stroke=\"#000000\" points=\"1450,-54.5 1450,-90.5 \"/>\n<text text-anchor=\"middle\" x=\"1492.5\" y=\"-68.8\" font-family=\"Times,serif\" font-size=\"14.00\" fill=\"#000000\">data 0.6044</text>\n<polyline fill=\"none\" stroke=\"#000000\" points=\"1535,-54.5 1535,-90.5 \"/>\n<text text-anchor=\"middle\" x=\"1578.5\" y=\"-68.8\" font-family=\"Times,serif\" font-size=\"14.00\" fill=\"#000000\">grad 0.0000</text>\n</g>\n<!-- 140698006704720tanh -->\n<g id=\"node5\" class=\"node\">\n<title>140698006704720tanh</title>\n<ellipse fill=\"none\" stroke=\"#000000\" cx=\"1363\" cy=\"-72.5\" rx=\"27\" ry=\"18\"/>\n<text text-anchor=\"middle\" x=\"1363\" y=\"-68.8\" font-family=\"Times,serif\" font-size=\"14.00\" fill=\"#000000\">tanh</text>\n</g>\n<!-- 140698006704720tanh&#45;&gt;140698006704720 -->\n<g id=\"edge2\" class=\"edge\">\n<title>140698006704720tanh&#45;&gt;140698006704720</title>\n<path fill=\"none\" stroke=\"#000000\" d=\"M1390.3115,-72.5C1397.8223,-72.5 1406.4512,-72.5 1415.6318,-72.5\"/>\n<polygon fill=\"#000000\" stroke=\"#000000\" points=\"1415.7835,-76.0001 1425.7835,-72.5 1415.7835,-69.0001 1415.7835,-76.0001\"/>\n</g>\n<!-- 140698006699088 -->\n<g id=\"node6\" class=\"node\">\n<title>140698006699088</title>\n<polygon fill=\"none\" stroke=\"#000000\" points=\"0,-110.5 0,-146.5 211,-146.5 211,-110.5 0,-110.5\"/>\n<text text-anchor=\"middle\" x=\"17.5\" y=\"-124.8\" font-family=\"Times,serif\" font-size=\"14.00\" fill=\"#000000\">w1</text>\n<polyline fill=\"none\" stroke=\"#000000\" points=\"35,-110.5 35,-146.5 \"/>\n<text text-anchor=\"middle\" x=\"79.5\" y=\"-124.8\" font-family=\"Times,serif\" font-size=\"14.00\" fill=\"#000000\">data &#45;3.0000</text>\n<polyline fill=\"none\" stroke=\"#000000\" points=\"124,-110.5 124,-146.5 \"/>\n<text text-anchor=\"middle\" x=\"167.5\" y=\"-124.8\" font-family=\"Times,serif\" font-size=\"14.00\" fill=\"#000000\">grad 0.0000</text>\n</g>\n<!-- 140698006699088&#45;&gt;140698006699216* -->\n<g id=\"edge10\" class=\"edge\">\n<title>140698006699088&#45;&gt;140698006699216*</title>\n<path fill=\"none\" stroke=\"#000000\" d=\"M211.2568,-128.5C220.2576,-128.5 228.9074,-128.5 236.7567,-128.5\"/>\n<polygon fill=\"#000000\" stroke=\"#000000\" points=\"236.9217,-132.0001 246.9217,-128.5 236.9217,-125.0001 236.9217,-132.0001\"/>\n</g>\n<!-- 140698006699216 -->\n<g id=\"node7\" class=\"node\">\n<title>140698006699216</title>\n<polygon fill=\"none\" stroke=\"#000000\" points=\"337,-110.5 337,-146.5 570,-146.5 570,-110.5 337,-110.5\"/>\n<text text-anchor=\"middle\" x=\"365.5\" y=\"-124.8\" font-family=\"Times,serif\" font-size=\"14.00\" fill=\"#000000\">x1*w1</text>\n<polyline fill=\"none\" stroke=\"#000000\" points=\"394,-110.5 394,-146.5 \"/>\n<text text-anchor=\"middle\" x=\"438.5\" y=\"-124.8\" font-family=\"Times,serif\" font-size=\"14.00\" fill=\"#000000\">data &#45;6.0000</text>\n<polyline fill=\"none\" stroke=\"#000000\" points=\"483,-110.5 483,-146.5 \"/>\n<text text-anchor=\"middle\" x=\"526.5\" y=\"-124.8\" font-family=\"Times,serif\" font-size=\"14.00\" fill=\"#000000\">grad 0.0000</text>\n</g>\n<!-- 140698006699216&#45;&gt;140698006704208+ -->\n<g id=\"edge9\" class=\"edge\">\n<title>140698006699216&#45;&gt;140698006704208+</title>\n<path fill=\"none\" stroke=\"#000000\" d=\"M568.9566,-110.4901C578.7184,-108.9673 588.037,-107.5137 596.3947,-106.21\"/>\n<polygon fill=\"#000000\" stroke=\"#000000\" points=\"597.0871,-109.6444 606.4281,-104.6449 596.0082,-102.7281 597.0871,-109.6444\"/>\n</g>\n<!-- 140698006699216*&#45;&gt;140698006699216 -->\n<g id=\"edge3\" class=\"edge\">\n<title>140698006699216*&#45;&gt;140698006699216</title>\n<path fill=\"none\" stroke=\"#000000\" d=\"M301.2622,-128.5C308.8324,-128.5 317.5801,-128.5 326.9781,-128.5\"/>\n<polygon fill=\"#000000\" stroke=\"#000000\" points=\"326.9853,-132.0001 336.9853,-128.5 326.9852,-125.0001 326.9853,-132.0001\"/>\n</g>\n<!-- 140698006699792 -->\n<g id=\"node9\" class=\"node\">\n<title>140698006699792</title>\n<polygon fill=\"none\" stroke=\"#000000\" points=\"339,-55.5 339,-91.5 568,-91.5 568,-55.5 339,-55.5\"/>\n<text text-anchor=\"middle\" x=\"367.5\" y=\"-69.8\" font-family=\"Times,serif\" font-size=\"14.00\" fill=\"#000000\">x2*w2</text>\n<polyline fill=\"none\" stroke=\"#000000\" points=\"396,-55.5 396,-91.5 \"/>\n<text text-anchor=\"middle\" x=\"438.5\" y=\"-69.8\" font-family=\"Times,serif\" font-size=\"14.00\" fill=\"#000000\">data 0.0000</text>\n<polyline fill=\"none\" stroke=\"#000000\" points=\"481,-55.5 481,-91.5 \"/>\n<text text-anchor=\"middle\" x=\"524.5\" y=\"-69.8\" font-family=\"Times,serif\" font-size=\"14.00\" fill=\"#000000\">grad 0.0000</text>\n</g>\n<!-- 140698006699792&#45;&gt;140698006704208+ -->\n<g id=\"edge6\" class=\"edge\">\n<title>140698006699792&#45;&gt;140698006704208+</title>\n<path fill=\"none\" stroke=\"#000000\" d=\"M568.1964,-90.7524C578.2591,-92.266 587.8673,-93.7112 596.4577,-95.0034\"/>\n<polygon fill=\"#000000\" stroke=\"#000000\" points=\"595.984,-98.4714 606.3934,-96.4979 597.0253,-91.5493 595.984,-98.4714\"/>\n</g>\n<!-- 140698006699792* -->\n<g id=\"node10\" class=\"node\">\n<title>140698006699792*</title>\n<ellipse fill=\"none\" stroke=\"#000000\" cx=\"274\" cy=\"-73.5\" rx=\"27\" ry=\"18\"/>\n<text text-anchor=\"middle\" x=\"274\" y=\"-69.8\" font-family=\"Times,serif\" font-size=\"14.00\" fill=\"#000000\">*</text>\n</g>\n<!-- 140698006699792*&#45;&gt;140698006699792 -->\n<g id=\"edge4\" class=\"edge\">\n<title>140698006699792*&#45;&gt;140698006699792</title>\n<path fill=\"none\" stroke=\"#000000\" d=\"M301.2622,-73.5C309.2798,-73.5 318.6183,-73.5 328.6514,-73.5\"/>\n<polygon fill=\"#000000\" stroke=\"#000000\" points=\"328.8929,-77.0001 338.8928,-73.5 328.8928,-70.0001 328.8929,-77.0001\"/>\n</g>\n<!-- 140698006699280 -->\n<g id=\"node11\" class=\"node\">\n<title>140698006699280</title>\n<polygon fill=\"none\" stroke=\"#000000\" points=\"2,-55.5 2,-91.5 209,-91.5 209,-55.5 2,-55.5\"/>\n<text text-anchor=\"middle\" x=\"19.5\" y=\"-69.8\" font-family=\"Times,serif\" font-size=\"14.00\" fill=\"#000000\">w2</text>\n<polyline fill=\"none\" stroke=\"#000000\" points=\"37,-55.5 37,-91.5 \"/>\n<text text-anchor=\"middle\" x=\"79.5\" y=\"-69.8\" font-family=\"Times,serif\" font-size=\"14.00\" fill=\"#000000\">data 1.0000</text>\n<polyline fill=\"none\" stroke=\"#000000\" points=\"122,-55.5 122,-91.5 \"/>\n<text text-anchor=\"middle\" x=\"165.5\" y=\"-69.8\" font-family=\"Times,serif\" font-size=\"14.00\" fill=\"#000000\">grad 0.0000</text>\n</g>\n<!-- 140698006699280&#45;&gt;140698006699792* -->\n<g id=\"edge14\" class=\"edge\">\n<title>140698006699280&#45;&gt;140698006699792*</title>\n<path fill=\"none\" stroke=\"#000000\" d=\"M209.3354,-73.5C219.0497,-73.5 228.3963,-73.5 236.8187,-73.5\"/>\n<polygon fill=\"#000000\" stroke=\"#000000\" points=\"236.951,-77.0001 246.9509,-73.5 236.9509,-70.0001 236.951,-77.0001\"/>\n</g>\n<!-- 140698006704464 -->\n<g id=\"node12\" class=\"node\">\n<title>140698006704464</title>\n<polygon fill=\"none\" stroke=\"#000000\" points=\"1104,-54.5 1104,-90.5 1300,-90.5 1300,-54.5 1104,-54.5\"/>\n<text text-anchor=\"middle\" x=\"1116\" y=\"-68.8\" font-family=\"Times,serif\" font-size=\"14.00\" fill=\"#000000\">n</text>\n<polyline fill=\"none\" stroke=\"#000000\" points=\"1128,-54.5 1128,-90.5 \"/>\n<text text-anchor=\"middle\" x=\"1170.5\" y=\"-68.8\" font-family=\"Times,serif\" font-size=\"14.00\" fill=\"#000000\">data 0.7000</text>\n<polyline fill=\"none\" stroke=\"#000000\" points=\"1213,-54.5 1213,-90.5 \"/>\n<text text-anchor=\"middle\" x=\"1256.5\" y=\"-68.8\" font-family=\"Times,serif\" font-size=\"14.00\" fill=\"#000000\">grad 0.0000</text>\n</g>\n<!-- 140698006704464&#45;&gt;140698006704720tanh -->\n<g id=\"edge12\" class=\"edge\">\n<title>140698006704464&#45;&gt;140698006704720tanh</title>\n<path fill=\"none\" stroke=\"#000000\" d=\"M1300.2922,-72.5C1309.2042,-72.5 1317.8099,-72.5 1325.6423,-72.5\"/>\n<polygon fill=\"#000000\" stroke=\"#000000\" points=\"1325.7996,-76.0001 1335.7995,-72.5 1325.7995,-69.0001 1325.7996,-76.0001\"/>\n</g>\n<!-- 140698006704464+&#45;&gt;140698006704464 -->\n<g id=\"edge5\" class=\"edge\">\n<title>140698006704464+&#45;&gt;140698006704464</title>\n<path fill=\"none\" stroke=\"#000000\" d=\"M1068.3115,-72.5C1075.8223,-72.5 1084.4512,-72.5 1093.6318,-72.5\"/>\n<polygon fill=\"#000000\" stroke=\"#000000\" points=\"1093.7835,-76.0001 1103.7835,-72.5 1093.7835,-69.0001 1093.7835,-76.0001\"/>\n</g>\n<!-- 140698006699408 -->\n<g id=\"node14\" class=\"node\">\n<title>140698006699408</title>\n<polygon fill=\"none\" stroke=\"#000000\" points=\"739,-27.5 739,-63.5 935,-63.5 935,-27.5 739,-27.5\"/>\n<text text-anchor=\"middle\" x=\"751\" y=\"-41.8\" font-family=\"Times,serif\" font-size=\"14.00\" fill=\"#000000\">b</text>\n<polyline fill=\"none\" stroke=\"#000000\" points=\"763,-27.5 763,-63.5 \"/>\n<text text-anchor=\"middle\" x=\"805.5\" y=\"-41.8\" font-family=\"Times,serif\" font-size=\"14.00\" fill=\"#000000\">data 6.7000</text>\n<polyline fill=\"none\" stroke=\"#000000\" points=\"848,-27.5 848,-63.5 \"/>\n<text text-anchor=\"middle\" x=\"891.5\" y=\"-41.8\" font-family=\"Times,serif\" font-size=\"14.00\" fill=\"#000000\">grad 0.0000</text>\n</g>\n<!-- 140698006699408&#45;&gt;140698006704464+ -->\n<g id=\"edge13\" class=\"edge\">\n<title>140698006699408&#45;&gt;140698006704464+</title>\n<path fill=\"none\" stroke=\"#000000\" d=\"M935.1161,-58.486C959.8615,-61.7611 984.9122,-65.0766 1004.4312,-67.66\"/>\n<polygon fill=\"#000000\" stroke=\"#000000\" points=\"1004.0126,-71.135 1014.3854,-68.9775 1004.9311,-64.1956 1004.0126,-71.135\"/>\n</g>\n<!-- 140698006698960 -->\n<g id=\"node15\" class=\"node\">\n<title>140698006698960</title>\n<polygon fill=\"none\" stroke=\"#000000\" points=\"3.5,-.5 3.5,-36.5 207.5,-36.5 207.5,-.5 3.5,-.5\"/>\n<text text-anchor=\"middle\" x=\"19.5\" y=\"-14.8\" font-family=\"Times,serif\" font-size=\"14.00\" fill=\"#000000\">x2</text>\n<polyline fill=\"none\" stroke=\"#000000\" points=\"35.5,-.5 35.5,-36.5 \"/>\n<text text-anchor=\"middle\" x=\"78\" y=\"-14.8\" font-family=\"Times,serif\" font-size=\"14.00\" fill=\"#000000\">data 0.0000</text>\n<polyline fill=\"none\" stroke=\"#000000\" points=\"120.5,-.5 120.5,-36.5 \"/>\n<text text-anchor=\"middle\" x=\"164\" y=\"-14.8\" font-family=\"Times,serif\" font-size=\"14.00\" fill=\"#000000\">grad 0.0000</text>\n</g>\n<!-- 140698006698960&#45;&gt;140698006699792* -->\n<g id=\"edge7\" class=\"edge\">\n<title>140698006698960&#45;&gt;140698006699792*</title>\n<path fill=\"none\" stroke=\"#000000\" d=\"M179.1277,-36.5688C189.8946,-39.636 200.7889,-42.9778 211,-46.5 221.4855,-50.1168 232.6874,-54.6793 242.694,-59.0193\"/>\n<polygon fill=\"#000000\" stroke=\"#000000\" points=\"241.2981,-62.229 251.8592,-63.0741 244.1302,-55.8274 241.2981,-62.229\"/>\n</g>\n</g>\n</svg>\n"
          },
          "metadata": {},
          "execution_count": 6
        }
      ]
    },
    {
      "cell_type": "code",
      "source": [
        "o.backward()\n",
        "draw_dot(o)"
      ],
      "metadata": {
        "colab": {
          "base_uri": "https://localhost:8080/",
          "height": 321
        },
        "id": "tAdhbgU9ko7L",
        "outputId": "a2644438-3ad0-4be4-9345-06483b0880ef"
      },
      "execution_count": null,
      "outputs": [
        {
          "output_type": "execute_result",
          "data": {
            "text/plain": [
              "<graphviz.dot.Digraph at 0x7ff6ceb5b2d0>"
            ],
            "image/svg+xml": "<?xml version=\"1.0\" encoding=\"UTF-8\" standalone=\"no\"?>\n<!DOCTYPE svg PUBLIC \"-//W3C//DTD SVG 1.1//EN\"\n \"http://www.w3.org/Graphics/SVG/1.1/DTD/svg11.dtd\">\n<!-- Generated by graphviz version 2.40.1 (20161225.0304)\n -->\n<!-- Title: %3 Pages: 1 -->\n<svg width=\"1630pt\" height=\"210pt\"\n viewBox=\"0.00 0.00 1630.00 210.00\" xmlns=\"http://www.w3.org/2000/svg\" xmlns:xlink=\"http://www.w3.org/1999/xlink\">\n<g id=\"graph0\" class=\"graph\" transform=\"scale(1 1) rotate(0) translate(4 206)\">\n<title>%3</title>\n<polygon fill=\"#ffffff\" stroke=\"transparent\" points=\"-4,4 -4,-206 1626,-206 1626,4 -4,4\"/>\n<!-- 140698006699024 -->\n<g id=\"node1\" class=\"node\">\n<title>140698006699024</title>\n<polygon fill=\"none\" stroke=\"#000000\" points=\"1,-165.5 1,-201.5 210,-201.5 210,-165.5 1,-165.5\"/>\n<text text-anchor=\"middle\" x=\"17\" y=\"-179.8\" font-family=\"Times,serif\" font-size=\"14.00\" fill=\"#000000\">x1</text>\n<polyline fill=\"none\" stroke=\"#000000\" points=\"33,-165.5 33,-201.5 \"/>\n<text text-anchor=\"middle\" x=\"75.5\" y=\"-179.8\" font-family=\"Times,serif\" font-size=\"14.00\" fill=\"#000000\">data 2.0000</text>\n<polyline fill=\"none\" stroke=\"#000000\" points=\"118,-165.5 118,-201.5 \"/>\n<text text-anchor=\"middle\" x=\"164\" y=\"-179.8\" font-family=\"Times,serif\" font-size=\"14.00\" fill=\"#000000\">grad &#45;1.9042</text>\n</g>\n<!-- 140698006699216* -->\n<g id=\"node8\" class=\"node\">\n<title>140698006699216*</title>\n<ellipse fill=\"none\" stroke=\"#000000\" cx=\"274\" cy=\"-128.5\" rx=\"27\" ry=\"18\"/>\n<text text-anchor=\"middle\" x=\"274\" y=\"-124.8\" font-family=\"Times,serif\" font-size=\"14.00\" fill=\"#000000\">*</text>\n</g>\n<!-- 140698006699024&#45;&gt;140698006699216* -->\n<g id=\"edge8\" class=\"edge\">\n<title>140698006699024&#45;&gt;140698006699216*</title>\n<path fill=\"none\" stroke=\"#000000\" d=\"M182.3017,-165.4558C192.0361,-162.698 201.8026,-159.6955 211,-156.5 221.6243,-152.8088 232.9373,-148.0548 243.0021,-143.5155\"/>\n<polygon fill=\"#000000\" stroke=\"#000000\" points=\"244.5909,-146.6371 252.2061,-139.271 241.6594,-140.2805 244.5909,-146.6371\"/>\n</g>\n<!-- 140698006704208 -->\n<g id=\"node2\" class=\"node\">\n<title>140698006704208</title>\n<polygon fill=\"none\" stroke=\"#000000\" points=\"696,-82.5 696,-118.5 978,-118.5 978,-82.5 696,-82.5\"/>\n<text text-anchor=\"middle\" x=\"749\" y=\"-96.8\" font-family=\"Times,serif\" font-size=\"14.00\" fill=\"#000000\">x1*w1+x2*w2</text>\n<polyline fill=\"none\" stroke=\"#000000\" points=\"802,-82.5 802,-118.5 \"/>\n<text text-anchor=\"middle\" x=\"846.5\" y=\"-96.8\" font-family=\"Times,serif\" font-size=\"14.00\" fill=\"#000000\">data &#45;6.0000</text>\n<polyline fill=\"none\" stroke=\"#000000\" points=\"891,-82.5 891,-118.5 \"/>\n<text text-anchor=\"middle\" x=\"934.5\" y=\"-96.8\" font-family=\"Times,serif\" font-size=\"14.00\" fill=\"#000000\">grad 0.6347</text>\n</g>\n<!-- 140698006704464+ -->\n<g id=\"node13\" class=\"node\">\n<title>140698006704464+</title>\n<ellipse fill=\"none\" stroke=\"#000000\" cx=\"1041\" cy=\"-72.5\" rx=\"27\" ry=\"18\"/>\n<text text-anchor=\"middle\" x=\"1041\" y=\"-68.8\" font-family=\"Times,serif\" font-size=\"14.00\" fill=\"#000000\">+</text>\n</g>\n<!-- 140698006704208&#45;&gt;140698006704464+ -->\n<g id=\"edge11\" class=\"edge\">\n<title>140698006704208&#45;&gt;140698006704464+</title>\n<path fill=\"none\" stroke=\"#000000\" d=\"M968.2153,-82.4901C981.2092,-80.7066 993.5123,-79.0179 1004.179,-77.5539\"/>\n<polygon fill=\"#000000\" stroke=\"#000000\" points=\"1004.8339,-80.9969 1014.2651,-76.1695 1003.882,-74.0619 1004.8339,-80.9969\"/>\n</g>\n<!-- 140698006704208+ -->\n<g id=\"node3\" class=\"node\">\n<title>140698006704208+</title>\n<ellipse fill=\"none\" stroke=\"#000000\" cx=\"633\" cy=\"-100.5\" rx=\"27\" ry=\"18\"/>\n<text text-anchor=\"middle\" x=\"633\" y=\"-96.8\" font-family=\"Times,serif\" font-size=\"14.00\" fill=\"#000000\">+</text>\n</g>\n<!-- 140698006704208+&#45;&gt;140698006704208 -->\n<g id=\"edge1\" class=\"edge\">\n<title>140698006704208+&#45;&gt;140698006704208</title>\n<path fill=\"none\" stroke=\"#000000\" d=\"M660.0896,-100.5C667.5706,-100.5 676.2497,-100.5 685.6679,-100.5\"/>\n<polygon fill=\"#000000\" stroke=\"#000000\" points=\"685.7311,-104.0001 695.7311,-100.5 685.731,-97.0001 685.7311,-104.0001\"/>\n</g>\n<!-- 140698006704720 -->\n<g id=\"node4\" class=\"node\">\n<title>140698006704720</title>\n<polygon fill=\"none\" stroke=\"#000000\" points=\"1426,-54.5 1426,-90.5 1622,-90.5 1622,-54.5 1426,-54.5\"/>\n<text text-anchor=\"middle\" x=\"1438\" y=\"-68.8\" font-family=\"Times,serif\" font-size=\"14.00\" fill=\"#000000\">o</text>\n<polyline fill=\"none\" stroke=\"#000000\" points=\"1450,-54.5 1450,-90.5 \"/>\n<text text-anchor=\"middle\" x=\"1492.5\" y=\"-68.8\" font-family=\"Times,serif\" font-size=\"14.00\" fill=\"#000000\">data 0.6044</text>\n<polyline fill=\"none\" stroke=\"#000000\" points=\"1535,-54.5 1535,-90.5 \"/>\n<text text-anchor=\"middle\" x=\"1578.5\" y=\"-68.8\" font-family=\"Times,serif\" font-size=\"14.00\" fill=\"#000000\">grad 1.0000</text>\n</g>\n<!-- 140698006704720tanh -->\n<g id=\"node5\" class=\"node\">\n<title>140698006704720tanh</title>\n<ellipse fill=\"none\" stroke=\"#000000\" cx=\"1363\" cy=\"-72.5\" rx=\"27\" ry=\"18\"/>\n<text text-anchor=\"middle\" x=\"1363\" y=\"-68.8\" font-family=\"Times,serif\" font-size=\"14.00\" fill=\"#000000\">tanh</text>\n</g>\n<!-- 140698006704720tanh&#45;&gt;140698006704720 -->\n<g id=\"edge2\" class=\"edge\">\n<title>140698006704720tanh&#45;&gt;140698006704720</title>\n<path fill=\"none\" stroke=\"#000000\" d=\"M1390.3115,-72.5C1397.8223,-72.5 1406.4512,-72.5 1415.6318,-72.5\"/>\n<polygon fill=\"#000000\" stroke=\"#000000\" points=\"1415.7835,-76.0001 1425.7835,-72.5 1415.7835,-69.0001 1415.7835,-76.0001\"/>\n</g>\n<!-- 140698006699088 -->\n<g id=\"node6\" class=\"node\">\n<title>140698006699088</title>\n<polygon fill=\"none\" stroke=\"#000000\" points=\"0,-110.5 0,-146.5 211,-146.5 211,-110.5 0,-110.5\"/>\n<text text-anchor=\"middle\" x=\"17.5\" y=\"-124.8\" font-family=\"Times,serif\" font-size=\"14.00\" fill=\"#000000\">w1</text>\n<polyline fill=\"none\" stroke=\"#000000\" points=\"35,-110.5 35,-146.5 \"/>\n<text text-anchor=\"middle\" x=\"79.5\" y=\"-124.8\" font-family=\"Times,serif\" font-size=\"14.00\" fill=\"#000000\">data &#45;3.0000</text>\n<polyline fill=\"none\" stroke=\"#000000\" points=\"124,-110.5 124,-146.5 \"/>\n<text text-anchor=\"middle\" x=\"167.5\" y=\"-124.8\" font-family=\"Times,serif\" font-size=\"14.00\" fill=\"#000000\">grad 1.2695</text>\n</g>\n<!-- 140698006699088&#45;&gt;140698006699216* -->\n<g id=\"edge10\" class=\"edge\">\n<title>140698006699088&#45;&gt;140698006699216*</title>\n<path fill=\"none\" stroke=\"#000000\" d=\"M211.2568,-128.5C220.2576,-128.5 228.9074,-128.5 236.7567,-128.5\"/>\n<polygon fill=\"#000000\" stroke=\"#000000\" points=\"236.9217,-132.0001 246.9217,-128.5 236.9217,-125.0001 236.9217,-132.0001\"/>\n</g>\n<!-- 140698006699216 -->\n<g id=\"node7\" class=\"node\">\n<title>140698006699216</title>\n<polygon fill=\"none\" stroke=\"#000000\" points=\"337,-110.5 337,-146.5 570,-146.5 570,-110.5 337,-110.5\"/>\n<text text-anchor=\"middle\" x=\"365.5\" y=\"-124.8\" font-family=\"Times,serif\" font-size=\"14.00\" fill=\"#000000\">x1*w1</text>\n<polyline fill=\"none\" stroke=\"#000000\" points=\"394,-110.5 394,-146.5 \"/>\n<text text-anchor=\"middle\" x=\"438.5\" y=\"-124.8\" font-family=\"Times,serif\" font-size=\"14.00\" fill=\"#000000\">data &#45;6.0000</text>\n<polyline fill=\"none\" stroke=\"#000000\" points=\"483,-110.5 483,-146.5 \"/>\n<text text-anchor=\"middle\" x=\"526.5\" y=\"-124.8\" font-family=\"Times,serif\" font-size=\"14.00\" fill=\"#000000\">grad 0.6347</text>\n</g>\n<!-- 140698006699216&#45;&gt;140698006704208+ -->\n<g id=\"edge9\" class=\"edge\">\n<title>140698006699216&#45;&gt;140698006704208+</title>\n<path fill=\"none\" stroke=\"#000000\" d=\"M568.9566,-110.4901C578.7184,-108.9673 588.037,-107.5137 596.3947,-106.21\"/>\n<polygon fill=\"#000000\" stroke=\"#000000\" points=\"597.0871,-109.6444 606.4281,-104.6449 596.0082,-102.7281 597.0871,-109.6444\"/>\n</g>\n<!-- 140698006699216*&#45;&gt;140698006699216 -->\n<g id=\"edge3\" class=\"edge\">\n<title>140698006699216*&#45;&gt;140698006699216</title>\n<path fill=\"none\" stroke=\"#000000\" d=\"M301.2622,-128.5C308.8324,-128.5 317.5801,-128.5 326.9781,-128.5\"/>\n<polygon fill=\"#000000\" stroke=\"#000000\" points=\"326.9853,-132.0001 336.9853,-128.5 326.9852,-125.0001 326.9853,-132.0001\"/>\n</g>\n<!-- 140698006699792 -->\n<g id=\"node9\" class=\"node\">\n<title>140698006699792</title>\n<polygon fill=\"none\" stroke=\"#000000\" points=\"339,-55.5 339,-91.5 568,-91.5 568,-55.5 339,-55.5\"/>\n<text text-anchor=\"middle\" x=\"367.5\" y=\"-69.8\" font-family=\"Times,serif\" font-size=\"14.00\" fill=\"#000000\">x2*w2</text>\n<polyline fill=\"none\" stroke=\"#000000\" points=\"396,-55.5 396,-91.5 \"/>\n<text text-anchor=\"middle\" x=\"438.5\" y=\"-69.8\" font-family=\"Times,serif\" font-size=\"14.00\" fill=\"#000000\">data 0.0000</text>\n<polyline fill=\"none\" stroke=\"#000000\" points=\"481,-55.5 481,-91.5 \"/>\n<text text-anchor=\"middle\" x=\"524.5\" y=\"-69.8\" font-family=\"Times,serif\" font-size=\"14.00\" fill=\"#000000\">grad 0.6347</text>\n</g>\n<!-- 140698006699792&#45;&gt;140698006704208+ -->\n<g id=\"edge6\" class=\"edge\">\n<title>140698006699792&#45;&gt;140698006704208+</title>\n<path fill=\"none\" stroke=\"#000000\" d=\"M568.1964,-90.7524C578.2591,-92.266 587.8673,-93.7112 596.4577,-95.0034\"/>\n<polygon fill=\"#000000\" stroke=\"#000000\" points=\"595.984,-98.4714 606.3934,-96.4979 597.0253,-91.5493 595.984,-98.4714\"/>\n</g>\n<!-- 140698006699792* -->\n<g id=\"node10\" class=\"node\">\n<title>140698006699792*</title>\n<ellipse fill=\"none\" stroke=\"#000000\" cx=\"274\" cy=\"-73.5\" rx=\"27\" ry=\"18\"/>\n<text text-anchor=\"middle\" x=\"274\" y=\"-69.8\" font-family=\"Times,serif\" font-size=\"14.00\" fill=\"#000000\">*</text>\n</g>\n<!-- 140698006699792*&#45;&gt;140698006699792 -->\n<g id=\"edge4\" class=\"edge\">\n<title>140698006699792*&#45;&gt;140698006699792</title>\n<path fill=\"none\" stroke=\"#000000\" d=\"M301.2622,-73.5C309.2798,-73.5 318.6183,-73.5 328.6514,-73.5\"/>\n<polygon fill=\"#000000\" stroke=\"#000000\" points=\"328.8929,-77.0001 338.8928,-73.5 328.8928,-70.0001 328.8929,-77.0001\"/>\n</g>\n<!-- 140698006699280 -->\n<g id=\"node11\" class=\"node\">\n<title>140698006699280</title>\n<polygon fill=\"none\" stroke=\"#000000\" points=\"2,-55.5 2,-91.5 209,-91.5 209,-55.5 2,-55.5\"/>\n<text text-anchor=\"middle\" x=\"19.5\" y=\"-69.8\" font-family=\"Times,serif\" font-size=\"14.00\" fill=\"#000000\">w2</text>\n<polyline fill=\"none\" stroke=\"#000000\" points=\"37,-55.5 37,-91.5 \"/>\n<text text-anchor=\"middle\" x=\"79.5\" y=\"-69.8\" font-family=\"Times,serif\" font-size=\"14.00\" fill=\"#000000\">data 1.0000</text>\n<polyline fill=\"none\" stroke=\"#000000\" points=\"122,-55.5 122,-91.5 \"/>\n<text text-anchor=\"middle\" x=\"165.5\" y=\"-69.8\" font-family=\"Times,serif\" font-size=\"14.00\" fill=\"#000000\">grad 0.0000</text>\n</g>\n<!-- 140698006699280&#45;&gt;140698006699792* -->\n<g id=\"edge14\" class=\"edge\">\n<title>140698006699280&#45;&gt;140698006699792*</title>\n<path fill=\"none\" stroke=\"#000000\" d=\"M209.3354,-73.5C219.0497,-73.5 228.3963,-73.5 236.8187,-73.5\"/>\n<polygon fill=\"#000000\" stroke=\"#000000\" points=\"236.951,-77.0001 246.9509,-73.5 236.9509,-70.0001 236.951,-77.0001\"/>\n</g>\n<!-- 140698006704464 -->\n<g id=\"node12\" class=\"node\">\n<title>140698006704464</title>\n<polygon fill=\"none\" stroke=\"#000000\" points=\"1104,-54.5 1104,-90.5 1300,-90.5 1300,-54.5 1104,-54.5\"/>\n<text text-anchor=\"middle\" x=\"1116\" y=\"-68.8\" font-family=\"Times,serif\" font-size=\"14.00\" fill=\"#000000\">n</text>\n<polyline fill=\"none\" stroke=\"#000000\" points=\"1128,-54.5 1128,-90.5 \"/>\n<text text-anchor=\"middle\" x=\"1170.5\" y=\"-68.8\" font-family=\"Times,serif\" font-size=\"14.00\" fill=\"#000000\">data 0.7000</text>\n<polyline fill=\"none\" stroke=\"#000000\" points=\"1213,-54.5 1213,-90.5 \"/>\n<text text-anchor=\"middle\" x=\"1256.5\" y=\"-68.8\" font-family=\"Times,serif\" font-size=\"14.00\" fill=\"#000000\">grad 0.6347</text>\n</g>\n<!-- 140698006704464&#45;&gt;140698006704720tanh -->\n<g id=\"edge12\" class=\"edge\">\n<title>140698006704464&#45;&gt;140698006704720tanh</title>\n<path fill=\"none\" stroke=\"#000000\" d=\"M1300.2922,-72.5C1309.2042,-72.5 1317.8099,-72.5 1325.6423,-72.5\"/>\n<polygon fill=\"#000000\" stroke=\"#000000\" points=\"1325.7996,-76.0001 1335.7995,-72.5 1325.7995,-69.0001 1325.7996,-76.0001\"/>\n</g>\n<!-- 140698006704464+&#45;&gt;140698006704464 -->\n<g id=\"edge5\" class=\"edge\">\n<title>140698006704464+&#45;&gt;140698006704464</title>\n<path fill=\"none\" stroke=\"#000000\" d=\"M1068.3115,-72.5C1075.8223,-72.5 1084.4512,-72.5 1093.6318,-72.5\"/>\n<polygon fill=\"#000000\" stroke=\"#000000\" points=\"1093.7835,-76.0001 1103.7835,-72.5 1093.7835,-69.0001 1093.7835,-76.0001\"/>\n</g>\n<!-- 140698006699408 -->\n<g id=\"node14\" class=\"node\">\n<title>140698006699408</title>\n<polygon fill=\"none\" stroke=\"#000000\" points=\"739,-27.5 739,-63.5 935,-63.5 935,-27.5 739,-27.5\"/>\n<text text-anchor=\"middle\" x=\"751\" y=\"-41.8\" font-family=\"Times,serif\" font-size=\"14.00\" fill=\"#000000\">b</text>\n<polyline fill=\"none\" stroke=\"#000000\" points=\"763,-27.5 763,-63.5 \"/>\n<text text-anchor=\"middle\" x=\"805.5\" y=\"-41.8\" font-family=\"Times,serif\" font-size=\"14.00\" fill=\"#000000\">data 6.7000</text>\n<polyline fill=\"none\" stroke=\"#000000\" points=\"848,-27.5 848,-63.5 \"/>\n<text text-anchor=\"middle\" x=\"891.5\" y=\"-41.8\" font-family=\"Times,serif\" font-size=\"14.00\" fill=\"#000000\">grad 0.6347</text>\n</g>\n<!-- 140698006699408&#45;&gt;140698006704464+ -->\n<g id=\"edge13\" class=\"edge\">\n<title>140698006699408&#45;&gt;140698006704464+</title>\n<path fill=\"none\" stroke=\"#000000\" d=\"M935.1161,-58.486C959.8615,-61.7611 984.9122,-65.0766 1004.4312,-67.66\"/>\n<polygon fill=\"#000000\" stroke=\"#000000\" points=\"1004.0126,-71.135 1014.3854,-68.9775 1004.9311,-64.1956 1004.0126,-71.135\"/>\n</g>\n<!-- 140698006698960 -->\n<g id=\"node15\" class=\"node\">\n<title>140698006698960</title>\n<polygon fill=\"none\" stroke=\"#000000\" points=\"3.5,-.5 3.5,-36.5 207.5,-36.5 207.5,-.5 3.5,-.5\"/>\n<text text-anchor=\"middle\" x=\"19.5\" y=\"-14.8\" font-family=\"Times,serif\" font-size=\"14.00\" fill=\"#000000\">x2</text>\n<polyline fill=\"none\" stroke=\"#000000\" points=\"35.5,-.5 35.5,-36.5 \"/>\n<text text-anchor=\"middle\" x=\"78\" y=\"-14.8\" font-family=\"Times,serif\" font-size=\"14.00\" fill=\"#000000\">data 0.0000</text>\n<polyline fill=\"none\" stroke=\"#000000\" points=\"120.5,-.5 120.5,-36.5 \"/>\n<text text-anchor=\"middle\" x=\"164\" y=\"-14.8\" font-family=\"Times,serif\" font-size=\"14.00\" fill=\"#000000\">grad 0.6347</text>\n</g>\n<!-- 140698006698960&#45;&gt;140698006699792* -->\n<g id=\"edge7\" class=\"edge\">\n<title>140698006698960&#45;&gt;140698006699792*</title>\n<path fill=\"none\" stroke=\"#000000\" d=\"M179.1277,-36.5688C189.8946,-39.636 200.7889,-42.9778 211,-46.5 221.4855,-50.1168 232.6874,-54.6793 242.694,-59.0193\"/>\n<polygon fill=\"#000000\" stroke=\"#000000\" points=\"241.2981,-62.229 251.8592,-63.0741 244.1302,-55.8274 241.2981,-62.229\"/>\n</g>\n</g>\n</svg>\n"
          },
          "metadata": {},
          "execution_count": 7
        }
      ]
    },
    {
      "cell_type": "code",
      "source": [
        "#another test example\n",
        "\n",
        "a = Value(-2.0, label='a')\n",
        "b = Value(3.0, label='b')\n",
        "d = a * b ; d.label='d'\n",
        "e = a + b ; e.label='e'\n",
        "f = d * e ; f.label='f'\n",
        "\n",
        "f.backward()\n",
        "\n",
        "draw_dot(f)"
      ],
      "metadata": {
        "colab": {
          "base_uri": "https://localhost:8080/",
          "height": 154
        },
        "id": "MVh4SUuUnB-T",
        "outputId": "e61aa694-9735-4320-adff-82e6918a332c"
      },
      "execution_count": null,
      "outputs": [
        {
          "output_type": "execute_result",
          "data": {
            "text/plain": [
              "<graphviz.dot.Digraph at 0x7ff6ceb5dfd0>"
            ],
            "image/svg+xml": "<?xml version=\"1.0\" encoding=\"UTF-8\" standalone=\"no\"?>\n<!DOCTYPE svg PUBLIC \"-//W3C//DTD SVG 1.1//EN\"\n \"http://www.w3.org/Graphics/SVG/1.1/DTD/svg11.dtd\">\n<!-- Generated by graphviz version 2.40.1 (20161225.0304)\n -->\n<!-- Title: %3 Pages: 1 -->\n<svg width=\"861pt\" height=\"100pt\"\n viewBox=\"0.00 0.00 861.00 100.00\" xmlns=\"http://www.w3.org/2000/svg\" xmlns:xlink=\"http://www.w3.org/1999/xlink\">\n<g id=\"graph0\" class=\"graph\" transform=\"scale(1 1) rotate(0) translate(4 96)\">\n<title>%3</title>\n<polygon fill=\"#ffffff\" stroke=\"transparent\" points=\"-4,4 -4,-96 857,-96 857,4 -4,4\"/>\n<!-- 140698006707792 -->\n<g id=\"node1\" class=\"node\">\n<title>140698006707792</title>\n<polygon fill=\"none\" stroke=\"#000000\" points=\"1.5,-55.5 1.5,-91.5 202.5,-91.5 202.5,-55.5 1.5,-55.5\"/>\n<text text-anchor=\"middle\" x=\"13.5\" y=\"-69.8\" font-family=\"Times,serif\" font-size=\"14.00\" fill=\"#000000\">b</text>\n<polyline fill=\"none\" stroke=\"#000000\" points=\"25.5,-55.5 25.5,-91.5 \"/>\n<text text-anchor=\"middle\" x=\"68\" y=\"-69.8\" font-family=\"Times,serif\" font-size=\"14.00\" fill=\"#000000\">data 3.0000</text>\n<polyline fill=\"none\" stroke=\"#000000\" points=\"110.5,-55.5 110.5,-91.5 \"/>\n<text text-anchor=\"middle\" x=\"156.5\" y=\"-69.8\" font-family=\"Times,serif\" font-size=\"14.00\" fill=\"#000000\">grad &#45;8.0000</text>\n</g>\n<!-- 140698006220944* -->\n<g id=\"node5\" class=\"node\">\n<title>140698006220944*</title>\n<ellipse fill=\"none\" stroke=\"#000000\" cx=\"267\" cy=\"-73.5\" rx=\"27\" ry=\"18\"/>\n<text text-anchor=\"middle\" x=\"267\" y=\"-69.8\" font-family=\"Times,serif\" font-size=\"14.00\" fill=\"#000000\">*</text>\n</g>\n<!-- 140698006707792&#45;&gt;140698006220944* -->\n<g id=\"edge4\" class=\"edge\">\n<title>140698006707792&#45;&gt;140698006220944*</title>\n<path fill=\"none\" stroke=\"#000000\" d=\"M202.7342,-73.5C212.2639,-73.5 221.4519,-73.5 229.7544,-73.5\"/>\n<polygon fill=\"#000000\" stroke=\"#000000\" points=\"229.7565,-77.0001 239.7565,-73.5 229.7565,-70.0001 229.7565,-77.0001\"/>\n</g>\n<!-- 140698006221136+ -->\n<g id=\"node8\" class=\"node\">\n<title>140698006221136+</title>\n<ellipse fill=\"none\" stroke=\"#000000\" cx=\"267\" cy=\"-18.5\" rx=\"27\" ry=\"18\"/>\n<text text-anchor=\"middle\" x=\"267\" y=\"-14.8\" font-family=\"Times,serif\" font-size=\"14.00\" fill=\"#000000\">+</text>\n</g>\n<!-- 140698006707792&#45;&gt;140698006221136+ -->\n<g id=\"edge8\" class=\"edge\">\n<title>140698006707792&#45;&gt;140698006221136+</title>\n<path fill=\"none\" stroke=\"#000000\" d=\"M175.6935,-55.4949C185.2882,-52.7128 194.9287,-49.6935 204,-46.5 214.609,-42.7651 225.918,-37.9995 235.9838,-33.4631\"/>\n<polygon fill=\"#000000\" stroke=\"#000000\" points=\"237.5699,-36.586 245.19,-29.225 234.6427,-30.2274 237.5699,-36.586\"/>\n</g>\n<!-- 140698006221392 -->\n<g id=\"node2\" class=\"node\">\n<title>140698006221392</title>\n<polygon fill=\"none\" stroke=\"#000000\" points=\"656,-27.5 656,-63.5 853,-63.5 853,-27.5 656,-27.5\"/>\n<text text-anchor=\"middle\" x=\"666.5\" y=\"-41.8\" font-family=\"Times,serif\" font-size=\"14.00\" fill=\"#000000\">f</text>\n<polyline fill=\"none\" stroke=\"#000000\" points=\"677,-27.5 677,-63.5 \"/>\n<text text-anchor=\"middle\" x=\"721.5\" y=\"-41.8\" font-family=\"Times,serif\" font-size=\"14.00\" fill=\"#000000\">data &#45;6.0000</text>\n<polyline fill=\"none\" stroke=\"#000000\" points=\"766,-27.5 766,-63.5 \"/>\n<text text-anchor=\"middle\" x=\"809.5\" y=\"-41.8\" font-family=\"Times,serif\" font-size=\"14.00\" fill=\"#000000\">grad 1.0000</text>\n</g>\n<!-- 140698006221392* -->\n<g id=\"node3\" class=\"node\">\n<title>140698006221392*</title>\n<ellipse fill=\"none\" stroke=\"#000000\" cx=\"593\" cy=\"-45.5\" rx=\"27\" ry=\"18\"/>\n<text text-anchor=\"middle\" x=\"593\" y=\"-41.8\" font-family=\"Times,serif\" font-size=\"14.00\" fill=\"#000000\">*</text>\n</g>\n<!-- 140698006221392*&#45;&gt;140698006221392 -->\n<g id=\"edge1\" class=\"edge\">\n<title>140698006221392*&#45;&gt;140698006221392</title>\n<path fill=\"none\" stroke=\"#000000\" d=\"M620.0315,-45.5C627.6149,-45.5 636.3553,-45.5 645.6644,-45.5\"/>\n<polygon fill=\"#000000\" stroke=\"#000000\" points=\"645.9613,-49.0001 655.9613,-45.5 645.9613,-42.0001 645.9613,-49.0001\"/>\n</g>\n<!-- 140698006220944 -->\n<g id=\"node4\" class=\"node\">\n<title>140698006220944</title>\n<polygon fill=\"none\" stroke=\"#000000\" points=\"330,-55.5 330,-91.5 530,-91.5 530,-55.5 330,-55.5\"/>\n<text text-anchor=\"middle\" x=\"342\" y=\"-69.8\" font-family=\"Times,serif\" font-size=\"14.00\" fill=\"#000000\">d</text>\n<polyline fill=\"none\" stroke=\"#000000\" points=\"354,-55.5 354,-91.5 \"/>\n<text text-anchor=\"middle\" x=\"398.5\" y=\"-69.8\" font-family=\"Times,serif\" font-size=\"14.00\" fill=\"#000000\">data &#45;6.0000</text>\n<polyline fill=\"none\" stroke=\"#000000\" points=\"443,-55.5 443,-91.5 \"/>\n<text text-anchor=\"middle\" x=\"486.5\" y=\"-69.8\" font-family=\"Times,serif\" font-size=\"14.00\" fill=\"#000000\">grad 1.0000</text>\n</g>\n<!-- 140698006220944&#45;&gt;140698006221392* -->\n<g id=\"edge9\" class=\"edge\">\n<title>140698006220944&#45;&gt;140698006221392*</title>\n<path fill=\"none\" stroke=\"#000000\" d=\"M530.4461,-56.2455C539.7389,-54.6491 548.6838,-53.1126 556.7604,-51.7252\"/>\n<polygon fill=\"#000000\" stroke=\"#000000\" points=\"557.5708,-55.1374 566.8338,-49.9948 556.3856,-48.2384 557.5708,-55.1374\"/>\n</g>\n<!-- 140698006220944*&#45;&gt;140698006220944 -->\n<g id=\"edge2\" class=\"edge\">\n<title>140698006220944*&#45;&gt;140698006220944</title>\n<path fill=\"none\" stroke=\"#000000\" d=\"M294.2825,-73.5C301.8033,-73.5 310.4515,-73.5 319.6639,-73.5\"/>\n<polygon fill=\"#000000\" stroke=\"#000000\" points=\"319.8552,-77.0001 329.8552,-73.5 319.8552,-70.0001 319.8552,-77.0001\"/>\n</g>\n<!-- 140698006707856 -->\n<g id=\"node6\" class=\"node\">\n<title>140698006707856</title>\n<polygon fill=\"none\" stroke=\"#000000\" points=\"0,-.5 0,-36.5 204,-36.5 204,-.5 0,-.5\"/>\n<text text-anchor=\"middle\" x=\"11.5\" y=\"-14.8\" font-family=\"Times,serif\" font-size=\"14.00\" fill=\"#000000\">a</text>\n<polyline fill=\"none\" stroke=\"#000000\" points=\"23,-.5 23,-36.5 \"/>\n<text text-anchor=\"middle\" x=\"67.5\" y=\"-14.8\" font-family=\"Times,serif\" font-size=\"14.00\" fill=\"#000000\">data &#45;2.0000</text>\n<polyline fill=\"none\" stroke=\"#000000\" points=\"112,-.5 112,-36.5 \"/>\n<text text-anchor=\"middle\" x=\"158\" y=\"-14.8\" font-family=\"Times,serif\" font-size=\"14.00\" fill=\"#000000\">grad &#45;3.0000</text>\n</g>\n<!-- 140698006707856&#45;&gt;140698006220944* -->\n<g id=\"edge6\" class=\"edge\">\n<title>140698006707856&#45;&gt;140698006220944*</title>\n<path fill=\"none\" stroke=\"#000000\" d=\"M172.6226,-36.5301C183.2123,-39.6243 193.9462,-42.9843 204,-46.5 214.4701,-50.1613 225.6678,-54.7359 235.6752,-59.0733\"/>\n<polygon fill=\"#000000\" stroke=\"#000000\" points=\"234.2811,-62.2836 244.8427,-63.1216 237.1088,-55.8802 234.2811,-62.2836\"/>\n</g>\n<!-- 140698006707856&#45;&gt;140698006221136+ -->\n<g id=\"edge5\" class=\"edge\">\n<title>140698006707856&#45;&gt;140698006221136+</title>\n<path fill=\"none\" stroke=\"#000000\" d=\"M204.1499,-18.5C213.1243,-18.5 221.7693,-18.5 229.6257,-18.5\"/>\n<polygon fill=\"#000000\" stroke=\"#000000\" points=\"229.8071,-22.0001 239.8071,-18.5 229.807,-15.0001 229.8071,-22.0001\"/>\n</g>\n<!-- 140698006221136 -->\n<g id=\"node7\" class=\"node\">\n<title>140698006221136</title>\n<polygon fill=\"none\" stroke=\"#000000\" points=\"330,-.5 330,-36.5 530,-36.5 530,-.5 330,-.5\"/>\n<text text-anchor=\"middle\" x=\"341.5\" y=\"-14.8\" font-family=\"Times,serif\" font-size=\"14.00\" fill=\"#000000\">e</text>\n<polyline fill=\"none\" stroke=\"#000000\" points=\"353,-.5 353,-36.5 \"/>\n<text text-anchor=\"middle\" x=\"395.5\" y=\"-14.8\" font-family=\"Times,serif\" font-size=\"14.00\" fill=\"#000000\">data 1.0000</text>\n<polyline fill=\"none\" stroke=\"#000000\" points=\"438,-.5 438,-36.5 \"/>\n<text text-anchor=\"middle\" x=\"484\" y=\"-14.8\" font-family=\"Times,serif\" font-size=\"14.00\" fill=\"#000000\">grad &#45;6.0000</text>\n</g>\n<!-- 140698006221136&#45;&gt;140698006221392* -->\n<g id=\"edge7\" class=\"edge\">\n<title>140698006221136&#45;&gt;140698006221392*</title>\n<path fill=\"none\" stroke=\"#000000\" d=\"M530.4461,-35.1383C539.6478,-36.6625 548.5084,-38.1302 556.5226,-39.4577\"/>\n<polygon fill=\"#000000\" stroke=\"#000000\" points=\"556.0904,-42.9338 566.528,-41.1151 557.2344,-36.0279 556.0904,-42.9338\"/>\n</g>\n<!-- 140698006221136+&#45;&gt;140698006221136 -->\n<g id=\"edge3\" class=\"edge\">\n<title>140698006221136+&#45;&gt;140698006221136</title>\n<path fill=\"none\" stroke=\"#000000\" d=\"M294.2825,-18.5C301.8033,-18.5 310.4515,-18.5 319.6639,-18.5\"/>\n<polygon fill=\"#000000\" stroke=\"#000000\" points=\"319.8552,-22.0001 329.8552,-18.5 319.8552,-15.0001 319.8552,-22.0001\"/>\n</g>\n</g>\n</svg>\n"
          },
          "metadata": {},
          "execution_count": 8
        }
      ]
    },
    {
      "cell_type": "code",
      "source": [
        "#tanh and exp example\n",
        "\n",
        "x = Value(0.5, label='x')\n",
        "\n",
        "#direct\n",
        "y = x.tanh() ; y.label='y'\n",
        "y.backward()\n",
        "draw_dot(y)"
      ],
      "metadata": {
        "id": "Sy9L0R4G0hYy",
        "colab": {
          "base_uri": "https://localhost:8080/",
          "height": 81
        },
        "outputId": "0df9a327-e905-44e4-fc8c-958697c5e21c"
      },
      "execution_count": null,
      "outputs": [
        {
          "output_type": "execute_result",
          "data": {
            "text/plain": [
              "<graphviz.dot.Digraph at 0x7ff6c6770a10>"
            ],
            "image/svg+xml": "<?xml version=\"1.0\" encoding=\"UTF-8\" standalone=\"no\"?>\n<!DOCTYPE svg PUBLIC \"-//W3C//DTD SVG 1.1//EN\"\n \"http://www.w3.org/Graphics/SVG/1.1/DTD/svg11.dtd\">\n<!-- Generated by graphviz version 2.40.1 (20161225.0304)\n -->\n<!-- Title: %3 Pages: 1 -->\n<svg width=\"526pt\" height=\"45pt\"\n viewBox=\"0.00 0.00 526.00 45.00\" xmlns=\"http://www.w3.org/2000/svg\" xmlns:xlink=\"http://www.w3.org/1999/xlink\">\n<g id=\"graph0\" class=\"graph\" transform=\"scale(1 1) rotate(0) translate(4 41)\">\n<title>%3</title>\n<polygon fill=\"#ffffff\" stroke=\"transparent\" points=\"-4,4 -4,-41 522,-41 522,4 -4,4\"/>\n<!-- 140697868373584 -->\n<g id=\"node1\" class=\"node\">\n<title>140697868373584</title>\n<polygon fill=\"none\" stroke=\"#000000\" points=\"322,-.5 322,-36.5 518,-36.5 518,-.5 322,-.5\"/>\n<text text-anchor=\"middle\" x=\"334\" y=\"-14.8\" font-family=\"Times,serif\" font-size=\"14.00\" fill=\"#000000\">y</text>\n<polyline fill=\"none\" stroke=\"#000000\" points=\"346,-.5 346,-36.5 \"/>\n<text text-anchor=\"middle\" x=\"388.5\" y=\"-14.8\" font-family=\"Times,serif\" font-size=\"14.00\" fill=\"#000000\">data 0.4621</text>\n<polyline fill=\"none\" stroke=\"#000000\" points=\"431,-.5 431,-36.5 \"/>\n<text text-anchor=\"middle\" x=\"474.5\" y=\"-14.8\" font-family=\"Times,serif\" font-size=\"14.00\" fill=\"#000000\">grad 1.0000</text>\n</g>\n<!-- 140697868373584tanh -->\n<g id=\"node2\" class=\"node\">\n<title>140697868373584tanh</title>\n<ellipse fill=\"none\" stroke=\"#000000\" cx=\"259\" cy=\"-18.5\" rx=\"27\" ry=\"18\"/>\n<text text-anchor=\"middle\" x=\"259\" y=\"-14.8\" font-family=\"Times,serif\" font-size=\"14.00\" fill=\"#000000\">tanh</text>\n</g>\n<!-- 140697868373584tanh&#45;&gt;140697868373584 -->\n<g id=\"edge1\" class=\"edge\">\n<title>140697868373584tanh&#45;&gt;140697868373584</title>\n<path fill=\"none\" stroke=\"#000000\" d=\"M286.3115,-18.5C293.8223,-18.5 302.4512,-18.5 311.6318,-18.5\"/>\n<polygon fill=\"#000000\" stroke=\"#000000\" points=\"311.7835,-22.0001 321.7835,-18.5 311.7835,-15.0001 311.7835,-22.0001\"/>\n</g>\n<!-- 140697868372432 -->\n<g id=\"node3\" class=\"node\">\n<title>140697868372432</title>\n<polygon fill=\"none\" stroke=\"#000000\" points=\"0,-.5 0,-36.5 196,-36.5 196,-.5 0,-.5\"/>\n<text text-anchor=\"middle\" x=\"12\" y=\"-14.8\" font-family=\"Times,serif\" font-size=\"14.00\" fill=\"#000000\">x</text>\n<polyline fill=\"none\" stroke=\"#000000\" points=\"24,-.5 24,-36.5 \"/>\n<text text-anchor=\"middle\" x=\"66.5\" y=\"-14.8\" font-family=\"Times,serif\" font-size=\"14.00\" fill=\"#000000\">data 0.5000</text>\n<polyline fill=\"none\" stroke=\"#000000\" points=\"109,-.5 109,-36.5 \"/>\n<text text-anchor=\"middle\" x=\"152.5\" y=\"-14.8\" font-family=\"Times,serif\" font-size=\"14.00\" fill=\"#000000\">grad 0.7864</text>\n</g>\n<!-- 140697868372432&#45;&gt;140697868373584tanh -->\n<g id=\"edge2\" class=\"edge\">\n<title>140697868372432&#45;&gt;140697868373584tanh</title>\n<path fill=\"none\" stroke=\"#000000\" d=\"M196.2922,-18.5C205.2042,-18.5 213.8099,-18.5 221.6423,-18.5\"/>\n<polygon fill=\"#000000\" stroke=\"#000000\" points=\"221.7996,-22.0001 231.7995,-18.5 221.7995,-15.0001 221.7996,-22.0001\"/>\n</g>\n</g>\n</svg>\n"
          },
          "metadata": {},
          "execution_count": 86
        }
      ]
    },
    {
      "cell_type": "code",
      "source": [
        "#reinit (otherwise the gradients of x are not zero b/c of previous code cell)\n",
        "x = Value(0.5, label='x')\n",
        "\n",
        "#indirect\n",
        "a = 2*x     ; a.label = 'a'\n",
        "b = a.exp() ; b.label = 'b'\n",
        "c = b-1     ; c.label = 'c'\n",
        "d = b+1     ; d.label = 'd'\n",
        "e = c/d     ; e.label = 'e' \n",
        "e.backward()\n",
        "draw_dot(e)"
      ],
      "metadata": {
        "id": "RL8K0hzc4Bhd",
        "colab": {
          "base_uri": "https://localhost:8080/",
          "height": 247
        },
        "outputId": "55483d8e-05c0-4eb3-ab00-bd006735281d"
      },
      "execution_count": null,
      "outputs": [
        {
          "output_type": "execute_result",
          "data": {
            "text/plain": [
              "<graphviz.dot.Digraph at 0x7ff6c67489d0>"
            ],
            "image/svg+xml": "<?xml version=\"1.0\" encoding=\"UTF-8\" standalone=\"no\"?>\n<!DOCTYPE svg PUBLIC \"-//W3C//DTD SVG 1.1//EN\"\n \"http://www.w3.org/Graphics/SVG/1.1/DTD/svg11.dtd\">\n<!-- Generated by graphviz version 2.40.1 (20161225.0304)\n -->\n<!-- Title: %3 Pages: 1 -->\n<svg width=\"1955pt\" height=\"155pt\"\n viewBox=\"0.00 0.00 1955.00 155.00\" xmlns=\"http://www.w3.org/2000/svg\" xmlns:xlink=\"http://www.w3.org/1999/xlink\">\n<g id=\"graph0\" class=\"graph\" transform=\"scale(1 1) rotate(0) translate(4 151)\">\n<title>%3</title>\n<polygon fill=\"#ffffff\" stroke=\"transparent\" points=\"-4,4 -4,-151 1951,-151 1951,4 -4,4\"/>\n<!-- 140697868209168 -->\n<g id=\"node1\" class=\"node\">\n<title>140697868209168</title>\n<polygon fill=\"none\" stroke=\"#000000\" points=\"1203,-27.5 1203,-63.5 1398,-63.5 1398,-27.5 1203,-27.5\"/>\n<text text-anchor=\"middle\" x=\"1214.5\" y=\"-41.8\" font-family=\"Times,serif\" font-size=\"14.00\" fill=\"#000000\">c</text>\n<polyline fill=\"none\" stroke=\"#000000\" points=\"1226,-27.5 1226,-63.5 \"/>\n<text text-anchor=\"middle\" x=\"1268.5\" y=\"-41.8\" font-family=\"Times,serif\" font-size=\"14.00\" fill=\"#000000\">data 1.7183</text>\n<polyline fill=\"none\" stroke=\"#000000\" points=\"1311,-27.5 1311,-63.5 \"/>\n<text text-anchor=\"middle\" x=\"1354.5\" y=\"-41.8\" font-family=\"Times,serif\" font-size=\"14.00\" fill=\"#000000\">grad 0.2689</text>\n</g>\n<!-- 140697868117840* -->\n<g id=\"node10\" class=\"node\">\n<title>140697868117840*</title>\n<ellipse fill=\"none\" stroke=\"#000000\" cx=\"1689\" cy=\"-72.5\" rx=\"27\" ry=\"18\"/>\n<text text-anchor=\"middle\" x=\"1689\" y=\"-68.8\" font-family=\"Times,serif\" font-size=\"14.00\" fill=\"#000000\">*</text>\n</g>\n<!-- 140697868209168&#45;&gt;140697868117840* -->\n<g id=\"edge7\" class=\"edge\">\n<title>140697868209168&#45;&gt;140697868117840*</title>\n<path fill=\"none\" stroke=\"#000000\" d=\"M1398.0335,-52.2784C1480.3451,-57.9989 1593.7629,-65.8812 1651.6806,-69.9064\"/>\n<polygon fill=\"#000000\" stroke=\"#000000\" points=\"1651.6106,-73.4099 1661.8292,-70.6117 1652.096,-66.4267 1651.6106,-73.4099\"/>\n</g>\n<!-- 140697868209168+ -->\n<g id=\"node2\" class=\"node\">\n<title>140697868209168+</title>\n<ellipse fill=\"none\" stroke=\"#000000\" cx=\"903\" cy=\"-45.5\" rx=\"27\" ry=\"18\"/>\n<text text-anchor=\"middle\" x=\"903\" y=\"-41.8\" font-family=\"Times,serif\" font-size=\"14.00\" fill=\"#000000\">+</text>\n</g>\n<!-- 140697868209168+&#45;&gt;140697868209168 -->\n<g id=\"edge1\" class=\"edge\">\n<title>140697868209168+&#45;&gt;140697868209168</title>\n<path fill=\"none\" stroke=\"#000000\" d=\"M930.0093,-45.5C983.0096,-45.5 1103.2355,-45.5 1192.4376,-45.5\"/>\n<polygon fill=\"#000000\" stroke=\"#000000\" points=\"1192.6072,-49.0001 1202.6071,-45.5 1192.6071,-42.0001 1192.6072,-49.0001\"/>\n</g>\n<!-- 140697868117584 -->\n<g id=\"node3\" class=\"node\">\n<title>140697868117584</title>\n<polygon fill=\"none\" stroke=\"#000000\" points=\"1434,-80.5 1434,-116.5 1626,-116.5 1626,-80.5 1434,-80.5\"/>\n<text text-anchor=\"middle\" x=\"1444\" y=\"-94.8\" font-family=\"Times,serif\" font-size=\"14.00\" fill=\"#000000\"> </text>\n<polyline fill=\"none\" stroke=\"#000000\" points=\"1454,-80.5 1454,-116.5 \"/>\n<text text-anchor=\"middle\" x=\"1496.5\" y=\"-94.8\" font-family=\"Times,serif\" font-size=\"14.00\" fill=\"#000000\">data 0.2689</text>\n<polyline fill=\"none\" stroke=\"#000000\" points=\"1539,-80.5 1539,-116.5 \"/>\n<text text-anchor=\"middle\" x=\"1582.5\" y=\"-94.8\" font-family=\"Times,serif\" font-size=\"14.00\" fill=\"#000000\">grad 1.7183</text>\n</g>\n<!-- 140697868117584&#45;&gt;140697868117840* -->\n<g id=\"edge14\" class=\"edge\">\n<title>140697868117584&#45;&gt;140697868117840*</title>\n<path fill=\"none\" stroke=\"#000000\" d=\"M1626.159,-82.7759C1635.4355,-81.259 1644.3952,-79.7939 1652.5016,-78.4683\"/>\n<polygon fill=\"#000000\" stroke=\"#000000\" points=\"1653.3176,-81.8814 1662.6217,-76.8134 1652.1879,-74.9732 1653.3176,-81.8814\"/>\n</g>\n<!-- 140697868117584**&#45;1 -->\n<g id=\"node4\" class=\"node\">\n<title>140697868117584**&#45;1</title>\n<ellipse fill=\"none\" stroke=\"#000000\" cx=\"1300.5\" cy=\"-100.5\" rx=\"28.6953\" ry=\"18\"/>\n<text text-anchor=\"middle\" x=\"1300.5\" y=\"-96.8\" font-family=\"Times,serif\" font-size=\"14.00\" fill=\"#000000\">**&#45;1</text>\n</g>\n<!-- 140697868117584**&#45;1&#45;&gt;140697868117584 -->\n<g id=\"edge2\" class=\"edge\">\n<title>140697868117584**&#45;1&#45;&gt;140697868117584</title>\n<path fill=\"none\" stroke=\"#000000\" d=\"M1329.1023,-100.2507C1353.0529,-100.042 1388.8031,-99.7305 1423.5357,-99.4278\"/>\n<polygon fill=\"#000000\" stroke=\"#000000\" points=\"1423.8101,-102.9256 1433.7792,-99.3385 1423.749,-95.9259 1423.8101,-102.9256\"/>\n</g>\n<!-- 140697868207248 -->\n<g id=\"node5\" class=\"node\">\n<title>140697868207248</title>\n<polygon fill=\"none\" stroke=\"#000000\" points=\"643.5,-.5 643.5,-36.5 839.5,-36.5 839.5,-.5 643.5,-.5\"/>\n<text text-anchor=\"middle\" x=\"653.5\" y=\"-14.8\" font-family=\"Times,serif\" font-size=\"14.00\" fill=\"#000000\"> </text>\n<polyline fill=\"none\" stroke=\"#000000\" points=\"663.5,-.5 663.5,-36.5 \"/>\n<text text-anchor=\"middle\" x=\"708\" y=\"-14.8\" font-family=\"Times,serif\" font-size=\"14.00\" fill=\"#000000\">data &#45;1.0000</text>\n<polyline fill=\"none\" stroke=\"#000000\" points=\"752.5,-.5 752.5,-36.5 \"/>\n<text text-anchor=\"middle\" x=\"796\" y=\"-14.8\" font-family=\"Times,serif\" font-size=\"14.00\" fill=\"#000000\">grad 0.2689</text>\n</g>\n<!-- 140697868207248&#45;&gt;140697868209168+ -->\n<g id=\"edge9\" class=\"edge\">\n<title>140697868207248&#45;&gt;140697868209168+</title>\n<path fill=\"none\" stroke=\"#000000\" d=\"M839.6344,-34.9064C849.2015,-36.5058 858.4268,-38.0481 866.738,-39.4376\"/>\n<polygon fill=\"#000000\" stroke=\"#000000\" points=\"866.2933,-42.9118 876.7336,-41.1087 867.4477,-36.0076 866.2933,-42.9118\"/>\n</g>\n<!-- 140697868209296 -->\n<g id=\"node6\" class=\"node\">\n<title>140697868209296</title>\n<polygon fill=\"none\" stroke=\"#000000\" points=\"2,-83.5 2,-119.5 194,-119.5 194,-83.5 2,-83.5\"/>\n<text text-anchor=\"middle\" x=\"12\" y=\"-97.8\" font-family=\"Times,serif\" font-size=\"14.00\" fill=\"#000000\"> </text>\n<polyline fill=\"none\" stroke=\"#000000\" points=\"22,-83.5 22,-119.5 \"/>\n<text text-anchor=\"middle\" x=\"64.5\" y=\"-97.8\" font-family=\"Times,serif\" font-size=\"14.00\" fill=\"#000000\">data 2.0000</text>\n<polyline fill=\"none\" stroke=\"#000000\" points=\"107,-83.5 107,-119.5 \"/>\n<text text-anchor=\"middle\" x=\"150.5\" y=\"-97.8\" font-family=\"Times,serif\" font-size=\"14.00\" fill=\"#000000\">grad 0.1966</text>\n</g>\n<!-- 140697868207504* -->\n<g id=\"node14\" class=\"node\">\n<title>140697868207504*</title>\n<ellipse fill=\"none\" stroke=\"#000000\" cx=\"259\" cy=\"-73.5\" rx=\"27\" ry=\"18\"/>\n<text text-anchor=\"middle\" x=\"259\" y=\"-69.8\" font-family=\"Times,serif\" font-size=\"14.00\" fill=\"#000000\">*</text>\n</g>\n<!-- 140697868209296&#45;&gt;140697868207504* -->\n<g id=\"edge16\" class=\"edge\">\n<title>140697868209296&#45;&gt;140697868207504*</title>\n<path fill=\"none\" stroke=\"#000000\" d=\"M194.4428,-84.7273C204.4412,-82.9885 214.0978,-81.3091 222.7618,-79.8023\"/>\n<polygon fill=\"#000000\" stroke=\"#000000\" points=\"223.5415,-83.2193 232.7939,-78.0576 222.342,-76.3228 223.5415,-83.2193\"/>\n</g>\n<!-- 140697868210128 -->\n<g id=\"node7\" class=\"node\">\n<title>140697868210128</title>\n<polygon fill=\"none\" stroke=\"#000000\" points=\"643,-110.5 643,-146.5 840,-146.5 840,-110.5 643,-110.5\"/>\n<text text-anchor=\"middle\" x=\"653\" y=\"-124.8\" font-family=\"Times,serif\" font-size=\"14.00\" fill=\"#000000\"> </text>\n<polyline fill=\"none\" stroke=\"#000000\" points=\"663,-110.5 663,-146.5 \"/>\n<text text-anchor=\"middle\" x=\"705.5\" y=\"-124.8\" font-family=\"Times,serif\" font-size=\"14.00\" fill=\"#000000\">data 1.0000</text>\n<polyline fill=\"none\" stroke=\"#000000\" points=\"748,-110.5 748,-146.5 \"/>\n<text text-anchor=\"middle\" x=\"794\" y=\"-124.8\" font-family=\"Times,serif\" font-size=\"14.00\" fill=\"#000000\">grad &#45;0.1243</text>\n</g>\n<!-- 140697868206416+ -->\n<g id=\"node12\" class=\"node\">\n<title>140697868206416+</title>\n<ellipse fill=\"none\" stroke=\"#000000\" cx=\"903\" cy=\"-100.5\" rx=\"27\" ry=\"18\"/>\n<text text-anchor=\"middle\" x=\"903\" y=\"-96.8\" font-family=\"Times,serif\" font-size=\"14.00\" fill=\"#000000\">+</text>\n</g>\n<!-- 140697868210128&#45;&gt;140697868206416+ -->\n<g id=\"edge10\" class=\"edge\">\n<title>140697868210128&#45;&gt;140697868206416+</title>\n<path fill=\"none\" stroke=\"#000000\" d=\"M840.0974,-111.4057C849.5173,-109.7725 858.5961,-108.1985 866.7856,-106.7787\"/>\n<polygon fill=\"#000000\" stroke=\"#000000\" points=\"867.387,-110.2267 876.6421,-105.0698 866.1912,-103.3296 867.387,-110.2267\"/>\n</g>\n<!-- 140697868208400 -->\n<g id=\"node8\" class=\"node\">\n<title>140697868208400</title>\n<polygon fill=\"none\" stroke=\"#000000\" points=\"0,-28.5 0,-64.5 196,-64.5 196,-28.5 0,-28.5\"/>\n<text text-anchor=\"middle\" x=\"12\" y=\"-42.8\" font-family=\"Times,serif\" font-size=\"14.00\" fill=\"#000000\">x</text>\n<polyline fill=\"none\" stroke=\"#000000\" points=\"24,-28.5 24,-64.5 \"/>\n<text text-anchor=\"middle\" x=\"66.5\" y=\"-42.8\" font-family=\"Times,serif\" font-size=\"14.00\" fill=\"#000000\">data 0.5000</text>\n<polyline fill=\"none\" stroke=\"#000000\" points=\"109,-28.5 109,-64.5 \"/>\n<text text-anchor=\"middle\" x=\"152.5\" y=\"-42.8\" font-family=\"Times,serif\" font-size=\"14.00\" fill=\"#000000\">grad 0.7864</text>\n</g>\n<!-- 140697868208400&#45;&gt;140697868207504* -->\n<g id=\"edge13\" class=\"edge\">\n<title>140697868208400&#45;&gt;140697868207504*</title>\n<path fill=\"none\" stroke=\"#000000\" d=\"M196.2922,-62.9838C205.5786,-64.5411 214.5324,-66.0427 222.6253,-67.3999\"/>\n<polygon fill=\"#000000\" stroke=\"#000000\" points=\"222.2825,-70.8912 232.7237,-69.0934 223.4403,-63.9876 222.2825,-70.8912\"/>\n</g>\n<!-- 140697868117840 -->\n<g id=\"node9\" class=\"node\">\n<title>140697868117840</title>\n<polygon fill=\"none\" stroke=\"#000000\" points=\"1752,-54.5 1752,-90.5 1947,-90.5 1947,-54.5 1752,-54.5\"/>\n<text text-anchor=\"middle\" x=\"1763.5\" y=\"-68.8\" font-family=\"Times,serif\" font-size=\"14.00\" fill=\"#000000\">e</text>\n<polyline fill=\"none\" stroke=\"#000000\" points=\"1775,-54.5 1775,-90.5 \"/>\n<text text-anchor=\"middle\" x=\"1817.5\" y=\"-68.8\" font-family=\"Times,serif\" font-size=\"14.00\" fill=\"#000000\">data 0.4621</text>\n<polyline fill=\"none\" stroke=\"#000000\" points=\"1860,-54.5 1860,-90.5 \"/>\n<text text-anchor=\"middle\" x=\"1903.5\" y=\"-68.8\" font-family=\"Times,serif\" font-size=\"14.00\" fill=\"#000000\">grad 1.0000</text>\n</g>\n<!-- 140697868117840*&#45;&gt;140697868117840 -->\n<g id=\"edge3\" class=\"edge\">\n<title>140697868117840*&#45;&gt;140697868117840</title>\n<path fill=\"none\" stroke=\"#000000\" d=\"M1716.2266,-72.5C1723.7798,-72.5 1732.4673,-72.5 1741.7094,-72.5\"/>\n<polygon fill=\"#000000\" stroke=\"#000000\" points=\"1741.9283,-76.0001 1751.9282,-72.5 1741.9282,-69.0001 1741.9283,-76.0001\"/>\n</g>\n<!-- 140697868206416 -->\n<g id=\"node11\" class=\"node\">\n<title>140697868206416</title>\n<polygon fill=\"none\" stroke=\"#000000\" points=\"966,-82.5 966,-118.5 1167,-118.5 1167,-82.5 966,-82.5\"/>\n<text text-anchor=\"middle\" x=\"978\" y=\"-96.8\" font-family=\"Times,serif\" font-size=\"14.00\" fill=\"#000000\">d</text>\n<polyline fill=\"none\" stroke=\"#000000\" points=\"990,-82.5 990,-118.5 \"/>\n<text text-anchor=\"middle\" x=\"1032.5\" y=\"-96.8\" font-family=\"Times,serif\" font-size=\"14.00\" fill=\"#000000\">data 3.7183</text>\n<polyline fill=\"none\" stroke=\"#000000\" points=\"1075,-82.5 1075,-118.5 \"/>\n<text text-anchor=\"middle\" x=\"1121\" y=\"-96.8\" font-family=\"Times,serif\" font-size=\"14.00\" fill=\"#000000\">grad &#45;0.1243</text>\n</g>\n<!-- 140697868206416&#45;&gt;140697868117584**&#45;1 -->\n<g id=\"edge15\" class=\"edge\">\n<title>140697868206416&#45;&gt;140697868117584**&#45;1</title>\n<path fill=\"none\" stroke=\"#000000\" d=\"M1167.0951,-100.5C1200.5185,-100.5 1235.7641,-100.5 1261.6286,-100.5\"/>\n<polygon fill=\"#000000\" stroke=\"#000000\" points=\"1261.7558,-104.0001 1271.7557,-100.5 1261.7557,-97.0001 1261.7558,-104.0001\"/>\n</g>\n<!-- 140697868206416+&#45;&gt;140697868206416 -->\n<g id=\"edge4\" class=\"edge\">\n<title>140697868206416+&#45;&gt;140697868206416</title>\n<path fill=\"none\" stroke=\"#000000\" d=\"M930.3662,-100.5C937.8433,-100.5 946.4313,-100.5 955.5802,-100.5\"/>\n<polygon fill=\"#000000\" stroke=\"#000000\" points=\"955.702,-104.0001 965.702,-100.5 955.7019,-97.0001 955.702,-104.0001\"/>\n</g>\n<!-- 140697868207504 -->\n<g id=\"node13\" class=\"node\">\n<title>140697868207504</title>\n<polygon fill=\"none\" stroke=\"#000000\" points=\"322,-55.5 322,-91.5 517,-91.5 517,-55.5 322,-55.5\"/>\n<text text-anchor=\"middle\" x=\"333.5\" y=\"-69.8\" font-family=\"Times,serif\" font-size=\"14.00\" fill=\"#000000\">a</text>\n<polyline fill=\"none\" stroke=\"#000000\" points=\"345,-55.5 345,-91.5 \"/>\n<text text-anchor=\"middle\" x=\"387.5\" y=\"-69.8\" font-family=\"Times,serif\" font-size=\"14.00\" fill=\"#000000\">data 1.0000</text>\n<polyline fill=\"none\" stroke=\"#000000\" points=\"430,-55.5 430,-91.5 \"/>\n<text text-anchor=\"middle\" x=\"473.5\" y=\"-69.8\" font-family=\"Times,serif\" font-size=\"14.00\" fill=\"#000000\">grad 0.3932</text>\n</g>\n<!-- 140697868208080exp -->\n<g id=\"node16\" class=\"node\">\n<title>140697868208080exp</title>\n<ellipse fill=\"none\" stroke=\"#000000\" cx=\"580\" cy=\"-73.5\" rx=\"27\" ry=\"18\"/>\n<text text-anchor=\"middle\" x=\"580\" y=\"-69.8\" font-family=\"Times,serif\" font-size=\"14.00\" fill=\"#000000\">exp</text>\n</g>\n<!-- 140697868207504&#45;&gt;140697868208080exp -->\n<g id=\"edge8\" class=\"edge\">\n<title>140697868207504&#45;&gt;140697868208080exp</title>\n<path fill=\"none\" stroke=\"#000000\" d=\"M517.0268,-73.5C526.1551,-73.5 534.9704,-73.5 542.9692,-73.5\"/>\n<polygon fill=\"#000000\" stroke=\"#000000\" points=\"542.9719,-77.0001 552.9718,-73.5 542.9718,-70.0001 542.9719,-77.0001\"/>\n</g>\n<!-- 140697868207504*&#45;&gt;140697868207504 -->\n<g id=\"edge5\" class=\"edge\">\n<title>140697868207504*&#45;&gt;140697868207504</title>\n<path fill=\"none\" stroke=\"#000000\" d=\"M286.2266,-73.5C293.7798,-73.5 302.4673,-73.5 311.7094,-73.5\"/>\n<polygon fill=\"#000000\" stroke=\"#000000\" points=\"311.9283,-77.0001 321.9282,-73.5 311.9282,-70.0001 311.9283,-77.0001\"/>\n</g>\n<!-- 140697868208080 -->\n<g id=\"node15\" class=\"node\">\n<title>140697868208080</title>\n<polygon fill=\"none\" stroke=\"#000000\" points=\"643.5,-55.5 643.5,-91.5 839.5,-91.5 839.5,-55.5 643.5,-55.5\"/>\n<text text-anchor=\"middle\" x=\"655.5\" y=\"-69.8\" font-family=\"Times,serif\" font-size=\"14.00\" fill=\"#000000\">b</text>\n<polyline fill=\"none\" stroke=\"#000000\" points=\"667.5,-55.5 667.5,-91.5 \"/>\n<text text-anchor=\"middle\" x=\"710\" y=\"-69.8\" font-family=\"Times,serif\" font-size=\"14.00\" fill=\"#000000\">data 2.7183</text>\n<polyline fill=\"none\" stroke=\"#000000\" points=\"752.5,-55.5 752.5,-91.5 \"/>\n<text text-anchor=\"middle\" x=\"796\" y=\"-69.8\" font-family=\"Times,serif\" font-size=\"14.00\" fill=\"#000000\">grad 0.1447</text>\n</g>\n<!-- 140697868208080&#45;&gt;140697868209168+ -->\n<g id=\"edge12\" class=\"edge\">\n<title>140697868208080&#45;&gt;140697868209168+</title>\n<path fill=\"none\" stroke=\"#000000\" d=\"M839.6344,-56.486C849.2015,-54.8273 858.4268,-53.2279 866.738,-51.7869\"/>\n<polygon fill=\"#000000\" stroke=\"#000000\" points=\"867.4785,-55.2108 876.7336,-50.0539 866.2827,-48.3137 867.4785,-55.2108\"/>\n</g>\n<!-- 140697868208080&#45;&gt;140697868206416+ -->\n<g id=\"edge11\" class=\"edge\">\n<title>140697868208080&#45;&gt;140697868206416+</title>\n<path fill=\"none\" stroke=\"#000000\" d=\"M839.6344,-89.9064C849.2015,-91.5058 858.4268,-93.0481 866.738,-94.4376\"/>\n<polygon fill=\"#000000\" stroke=\"#000000\" points=\"866.2933,-97.9118 876.7336,-96.1087 867.4477,-91.0076 866.2933,-97.9118\"/>\n</g>\n<!-- 140697868208080exp&#45;&gt;140697868208080 -->\n<g id=\"edge6\" class=\"edge\">\n<title>140697868208080exp&#45;&gt;140697868208080</title>\n<path fill=\"none\" stroke=\"#000000\" d=\"M607.0315,-73.5C614.7623,-73.5 623.6953,-73.5 633.2076,-73.5\"/>\n<polygon fill=\"#000000\" stroke=\"#000000\" points=\"633.3041,-77.0001 643.304,-73.5 633.304,-70.0001 633.3041,-77.0001\"/>\n</g>\n</g>\n</svg>\n"
          },
          "metadata": {},
          "execution_count": 85
        }
      ]
    },
    {
      "cell_type": "markdown",
      "source": [
        "Everything matches! And by everything, of course I mean the output and the derivative with respect to the input $x$. As additional verification, we can backpropogate by hand, and we arrive at the same results. Now let's use the above micrograd engine to build a simple multilayer perceptron."
      ],
      "metadata": {
        "id": "kc9rFLQ3Wzsp"
      }
    },
    {
      "cell_type": "code",
      "source": [
        "class Neuron:\n",
        "\n",
        "  def __init__(self, nin):\n",
        "    self.w = [Value(np.random.uniform(-1,1)) for i in range(nin)]\n",
        "    self.b = Value(np.random.uniform(-1,1))\n",
        "\n",
        "  def __call__(self,x):\n",
        "    #w*x+b\n",
        "    act = sum((wi*xi for wi,xi in zip(self.w,x)), self.b)\n",
        "    out = act.tanh()\n",
        "    return out\n",
        "  \n",
        "  def parameters(self):\n",
        "    return self.w + [self.b] \n",
        "\n",
        "class Layer:\n",
        "\n",
        "  def __init__(self, nin, nout):\n",
        "    self.neurons = [Neuron(nin) for i in range(nout)]\n",
        "\n",
        "  def __call__(self, x):\n",
        "    outs = [n(x) for n in self.neurons]\n",
        "    return outs[0] if len(outs)==1 else outs\n",
        "\n",
        "  def parameters(self):\n",
        "     return [p for neuron in self.neurons for p in neuron.parameters()]\n",
        "\n",
        "class MLP:\n",
        "\n",
        "  def __init__(self, nin, nouts):\n",
        "    sz = [nin] + nouts #prepends nin to list of nouts\n",
        "    self.layers = [Layer(sz[i], sz[i+1]) for i in range(len(nouts))]\n",
        "\n",
        "  def __call__(self,x):\n",
        "    for layer in self.layers: #forward pass through the MLP\n",
        "      x=layer(x)\n",
        "    return x\n",
        "\n",
        "  def parameters(self):\n",
        "    return [p for layer in self.layers for p in layer.parameters()]"
      ],
      "metadata": {
        "id": "q0IG1_JtW47K"
      },
      "execution_count": 112,
      "outputs": []
    },
    {
      "cell_type": "code",
      "source": [
        "x = [2.0,3.0, -1.0]\n",
        "n = MLP(3, [4,4,1])\n",
        "y = n(x)"
      ],
      "metadata": {
        "id": "JIcvB39RvGvL"
      },
      "execution_count": 113,
      "outputs": []
    },
    {
      "cell_type": "code",
      "source": [
        "#draw_dot(y)"
      ],
      "metadata": {
        "id": "BDndm3OXzYQM"
      },
      "execution_count": null,
      "outputs": []
    },
    {
      "cell_type": "code",
      "source": [
        "#example dataset from the lecture\n",
        "\n",
        "xs = [\n",
        "    [2.0, 3.0, -1.0],\n",
        "    [3.0, -1.0, 0.5],\n",
        "    [0.5, 1.0, 1.0],\n",
        "    [1.0, 1.0, -1.0]\n",
        "]\n",
        "\n",
        "ys = [1.0, -1.0, -1.0, 1.0] #desired targets\n",
        "\n",
        "#before training\n",
        "ypred = [n(x) for x in xs]\n",
        "print(ypred)"
      ],
      "metadata": {
        "colab": {
          "base_uri": "https://localhost:8080/"
        },
        "id": "B_WXGIs00DwT",
        "outputId": "9fc57e23-eda2-49bf-b723-6927da45d6ab"
      },
      "execution_count": 114,
      "outputs": [
        {
          "output_type": "stream",
          "name": "stdout",
          "text": [
            "[Value(data=0.5319682250149593, label=), Value(data=0.7589117693968087, label=), Value(data=0.7926820829330167, label=), Value(data=0.6442006375480694, label=)]\n"
          ]
        }
      ]
    },
    {
      "cell_type": "code",
      "source": [
        "for k in range(100):\n",
        "  \n",
        "  # forward pass\n",
        "  ypred = [n(x) for x in xs]\n",
        "  loss = sum((yout-ygt)**2 for ygt, yout in zip(ys,ypred))\n",
        "\n",
        "  #backward pass\n",
        "  for p in n.parameters(): #recall gradients accumulate in the backward pass, so we need to zero out things beforehand\n",
        "    p.grad = 0.0\n",
        "  loss.backward()\n",
        "\n",
        "  #update\n",
        "  for p in n.parameters(): \n",
        "    p.data += -0.1 * p.grad\n",
        "\n",
        "  print(f'step {k} | loss: {loss.data}')"
      ],
      "metadata": {
        "colab": {
          "base_uri": "https://localhost:8080/"
        },
        "id": "ikAvJ80606-D",
        "outputId": "9715287a-cbe7-47cf-d803-893f9910fdf9"
      },
      "execution_count": 134,
      "outputs": [
        {
          "output_type": "stream",
          "name": "stdout",
          "text": [
            "step 0 | loss: 0.002261011090757827\n",
            "step 1 | loss: 0.00224116431715543\n",
            "step 2 | loss: 0.0022216549519994766\n",
            "step 3 | loss: 0.002202474545830872\n",
            "step 4 | loss: 0.0021836149275073474\n",
            "step 5 | loss: 0.002165068192874548\n",
            "step 6 | loss: 0.0021468266939848007\n",
            "step 7 | loss: 0.002128883028832923\n",
            "step 8 | loss: 0.002111230031580707\n",
            "step 9 | loss: 0.0020938607632428772\n",
            "step 10 | loss: 0.0020767685028094513\n",
            "step 11 | loss: 0.002059946738780962\n",
            "step 12 | loss: 0.0020433891610942144\n",
            "step 13 | loss: 0.0020270896534177758\n",
            "step 14 | loss: 0.002011042285797608\n",
            "step 15 | loss: 0.001995241307634671\n",
            "step 16 | loss: 0.001979681140976677\n",
            "step 17 | loss: 0.0019643563741083463\n",
            "step 18 | loss: 0.0019492617554242955\n",
            "step 19 | loss: 0.001934392187570431\n",
            "step 20 | loss: 0.0019197427218402476\n",
            "step 21 | loss: 0.0019053085528129175\n",
            "step 22 | loss: 0.001891085013221589\n",
            "step 23 | loss: 0.0018770675690398739\n",
            "step 24 | loss: 0.0018632518147763768\n",
            "step 25 | loss: 0.0018496334689666722\n",
            "step 26 | loss: 0.001836208369853222\n",
            "step 27 | loss: 0.0018229724712443504\n",
            "step 28 | loss: 0.0018099218385435232\n",
            "step 29 | loss: 0.0017970526449408177\n",
            "step 30 | loss: 0.0017843611677589727\n",
            "step 31 | loss: 0.0017718437849468555\n",
            "step 32 | loss: 0.0017594969717132586\n",
            "step 33 | loss: 0.0017473172972946273\n",
            "step 34 | loss: 0.001735301421850697\n",
            "step 35 | loss: 0.001723446093481842\n",
            "step 36 | loss: 0.0017117481453629863\n",
            "step 37 | loss: 0.0017002044929885266\n",
            "step 38 | loss: 0.0016888121315234786\n",
            "step 39 | loss: 0.0016775681332559201\n",
            "step 40 | loss: 0.001666469645146483\n",
            "step 41 | loss: 0.0016555138864703701\n",
            "step 42 | loss: 0.0016446981465479899\n",
            "step 43 | loss: 0.0016340197825604778\n",
            "step 44 | loss: 0.0016234762174459757\n",
            "step 45 | loss: 0.0016130649378738593\n",
            "step 46 | loss: 0.0016027834922929846\n",
            "step 47 | loss: 0.0015926294890511723\n",
            "step 48 | loss: 0.0015826005945828387\n",
            "step 49 | loss: 0.0015726945316617948\n",
            "step 50 | loss: 0.0015629090777166768\n",
            "step 51 | loss: 0.001553242063206304\n",
            "step 52 | loss: 0.0015436913700524637\n",
            "step 53 | loss: 0.0015342549301279916\n",
            "step 54 | loss: 0.0015249307237975023\n",
            "step 55 | loss: 0.001515716778509017\n",
            "step 56 | loss: 0.0015066111674342502\n",
            "step 57 | loss: 0.0014976120081556612\n",
            "step 58 | loss: 0.0014887174613982957\n",
            "step 59 | loss: 0.001479925729804894\n",
            "step 60 | loss: 0.0014712350567522435\n",
            "step 61 | loss: 0.0014626437252074779\n",
            "step 62 | loss: 0.001454150056622449\n",
            "step 63 | loss: 0.0014457524098650408\n",
            "step 64 | loss: 0.0014374491801856532\n",
            "step 65 | loss: 0.0014292387982178028\n",
            "step 66 | loss: 0.0014211197290113539\n",
            "step 67 | loss: 0.0014130904710971956\n",
            "step 68 | loss: 0.0014051495555822487\n",
            "step 69 | loss: 0.0013972955452735696\n",
            "step 70 | loss: 0.0013895270338304872\n",
            "step 71 | loss: 0.0013818426449437081\n",
            "step 72 | loss: 0.0013742410315406195\n",
            "step 73 | loss: 0.001366720875015406\n",
            "step 74 | loss: 0.0013592808844834468\n",
            "step 75 | loss: 0.0013519197960589412\n",
            "step 76 | loss: 0.0013446363721549837\n",
            "step 77 | loss: 0.0013374294008052044\n",
            "step 78 | loss: 0.0013302976950062702\n",
            "step 79 | loss: 0.001323240092080524\n",
            "step 80 | loss: 0.0013162554530579689\n",
            "step 81 | loss: 0.0013093426620769714\n",
            "step 82 | loss: 0.0013025006258029677\n",
            "step 83 | loss: 0.0012957282728647105\n",
            "step 84 | loss: 0.0012890245533072014\n",
            "step 85 | loss: 0.001282388438060886\n",
            "step 86 | loss: 0.0012758189184265958\n",
            "step 87 | loss: 0.0012693150055755084\n",
            "step 88 | loss: 0.0012628757300638621\n",
            "step 89 | loss: 0.0012565001413616633\n",
            "step 90 | loss: 0.0012501873073951465\n",
            "step 91 | loss: 0.001243936314102404\n",
            "step 92 | loss: 0.0012377462650016938\n",
            "step 93 | loss: 0.0012316162807721573\n",
            "step 94 | loss: 0.0012255454988464652\n",
            "step 95 | loss: 0.001219533073014876\n",
            "step 96 | loss: 0.0012135781730405937\n",
            "step 97 | loss: 0.0012076799842857652\n",
            "step 98 | loss: 0.0012018377073480377\n",
            "step 99 | loss: 0.001196050557707078\n"
          ]
        }
      ]
    },
    {
      "cell_type": "code",
      "source": [
        "ypred"
      ],
      "metadata": {
        "id": "m97xhFrV4cKY",
        "colab": {
          "base_uri": "https://localhost:8080/"
        },
        "outputId": "2ec87e0b-62bf-48df-9e47-0c125e8bf340"
      },
      "execution_count": 135,
      "outputs": [
        {
          "output_type": "execute_result",
          "data": {
            "text/plain": [
              "[Value(data=0.9887484165152389, label=),\n",
              " Value(data=-0.984994907729048, label=),\n",
              " Value(data=-0.9790361152834683, label=),\n",
              " Value(data=0.9798799808567508, label=)]"
            ]
          },
          "metadata": {},
          "execution_count": 135
        }
      ]
    },
    {
      "cell_type": "code",
      "source": [
        "#draw_dot(loss)"
      ],
      "metadata": {
        "id": "f_8-E-MI4t-8"
      },
      "execution_count": 118,
      "outputs": []
    }
  ]
}