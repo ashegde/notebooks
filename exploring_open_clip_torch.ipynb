{
  "cells": [
    {
      "cell_type": "markdown",
      "metadata": {
        "id": "view-in-github",
        "colab_type": "text"
      },
      "source": [
        "<a href=\"https://colab.research.google.com/github/ashegde/notebooks/blob/main/exploring_open_clip_torch.ipynb\" target=\"_parent\"><img src=\"https://colab.research.google.com/assets/colab-badge.svg\" alt=\"Open In Colab\"/></a>"
      ]
    },
    {
      "cell_type": "code",
      "execution_count": null,
      "metadata": {
        "id": "g--xgJHUGgRW"
      },
      "outputs": [],
      "source": [
        "\"\"\"\n",
        "This notebook contains some very simple commands to gain familiarity with\n",
        "the open_clip project.\n",
        "\"\"\""
      ]
    },
    {
      "cell_type": "code",
      "source": [
        "!pip install open_clip_torch --quiet\n",
        "!pip install datasets --quiet\n",
        "!wget https://upload.wikimedia.org/wikipedia/commons/0/05/Cat.png --quiet"
      ],
      "metadata": {
        "id": "1i7EoQKdu5AQ"
      },
      "execution_count": null,
      "outputs": []
    },
    {
      "cell_type": "code",
      "execution_count": null,
      "metadata": {
        "id": "AbW13RgaGnLn"
      },
      "outputs": [],
      "source": [
        "import torch\n",
        "from PIL import Image\n",
        "import open_clip\n",
        "\n",
        "model, _, preprocess = open_clip.create_model_and_transforms('ViT-B-32', pretrained='laion2b_s34b_b79k')\n",
        "tokenizer = open_clip.get_tokenizer('ViT-B-32')"
      ]
    },
    {
      "cell_type": "code",
      "source": [
        "image = preprocess(Image.open(\"Cat.png\")).unsqueeze(0)\n",
        "text = tokenizer([\"a diagram\", \"a dog\", \"a cat\"])\n",
        "model.eval()\n",
        "\n",
        "with torch.no_grad(), torch.cuda.amp.autocast():\n",
        "    image_features = model.encode_image(image)\n",
        "    text_features = model.encode_text(text)\n",
        "    image_features /= image_features.norm(dim=-1, keepdim=True)\n",
        "    text_features /= text_features.norm(dim=-1, keepdim=True)\n",
        "\n",
        "    text_probs = (100.0 * image_features @ text_features.T).softmax(dim=-1)\n",
        "    # (1,3) = (1, 512) @ (512, 3)\n",
        "\n",
        "print(\"Label probs:\", text_probs)  # prints: [[1., 0., 0.]]"
      ],
      "metadata": {
        "id": "Soy5FKpoNCa9"
      },
      "execution_count": null,
      "outputs": []
    },
    {
      "cell_type": "code",
      "source": [
        "from datasets import load_dataset\n",
        "\n",
        "fw = load_dataset('nielsr/datacomp-small-10-rows-with-image-feature', split=\"train\")\n"
      ],
      "metadata": {
        "id": "7pmLX-_DPckS"
      },
      "execution_count": null,
      "outputs": []
    },
    {
      "cell_type": "code",
      "source": [
        "images = torch.stack(\n",
        "    list(map(preprocess, fw[0:-1]['image']))\n",
        ")"
      ],
      "metadata": {
        "id": "IDXnJDuqVRMv"
      },
      "execution_count": null,
      "outputs": []
    },
    {
      "cell_type": "code",
      "source": [
        "captions = fw[0:-1]['text']\n",
        "caption_tokens = tokenizer(captions)"
      ],
      "metadata": {
        "id": "IQw0yODjXr5T"
      },
      "execution_count": null,
      "outputs": []
    },
    {
      "cell_type": "code",
      "source": [
        "text_features = model.encode_text(caption_tokens)\n",
        "text_features /= text_features.norm(dim=-1, keepdim=True)\n",
        "\n",
        "image_features = model.encode_image(images)\n",
        "image_features /= image_features.norm(dim=-1, keepdim=True)"
      ],
      "metadata": {
        "id": "6TYWjxwSXix5"
      },
      "execution_count": null,
      "outputs": []
    },
    {
      "cell_type": "code",
      "source": [
        "text_probs = (100.0 * image_features @ text_features.T).softmax(dim=-1)\n",
        "# (10, 10) = (10, 512) @ (512, 10)"
      ],
      "metadata": {
        "id": "nW9WYdwNV1Zz"
      },
      "execution_count": null,
      "outputs": []
    },
    {
      "cell_type": "code",
      "source": [
        "print(\"Caption probs:\", text_probs)"
      ],
      "metadata": {
        "id": "vbB0mnP-fzfy"
      },
      "execution_count": null,
      "outputs": []
    },
    {
      "cell_type": "code",
      "source": [
        "# highest probability captions for each image\n",
        "max_prob_captions = text_probs.argmax(dim=-1)\n",
        "print(\n",
        "    *[f'\\t image {i} -- caption {max_prob_captions[i]}\\n' for i in range(text_probs.size(0))]\n",
        ")"
      ],
      "metadata": {
        "id": "FZPlJfCAgFym"
      },
      "execution_count": null,
      "outputs": []
    },
    {
      "cell_type": "code",
      "source": [
        "# evidently, image-caption pair 5 is mispredicted.\n",
        "text_probs[5,:]"
      ],
      "metadata": {
        "id": "viqtaxNIgv_j"
      },
      "execution_count": null,
      "outputs": []
    },
    {
      "cell_type": "code",
      "source": [
        "captions[5]\n",
        "# Perhaps this is not surprising. The model likely has no context for mapping names to faces."
      ],
      "metadata": {
        "id": "vxVyXs05hJb0"
      },
      "execution_count": null,
      "outputs": []
    },
    {
      "cell_type": "code",
      "source": [
        "import matplotlib.pyplot as plt\n",
        "image = images[5]\n",
        "fig, axs = plt.subplots(nrows = 1, ncols=2)\n",
        "axs[0].imshow(image.permute(1, 2, 0))\n",
        "axs[0].set_title('Preprocessed')\n",
        "axs[1].imshow(fw[5]['image'])\n",
        "axs[1].set_title('Original')\n",
        "plt.show()"
      ],
      "metadata": {
        "id": "AmkWiDOUixVu"
      },
      "execution_count": null,
      "outputs": []
    },
    {
      "cell_type": "code",
      "source": [
        "# But the model associates the text \"Arthur Bothe\" to a person-like image,\n",
        "# even if it is not the right person.\n",
        "\n",
        "fig, ax = plt.subplots()\n",
        "image = images[6]\n",
        "ax.imshow(image.permute(1, 2, 0))\n",
        "plt.show()"
      ],
      "metadata": {
        "id": "jBLDOHiaq_yt"
      },
      "execution_count": null,
      "outputs": []
    },
    {
      "cell_type": "code",
      "source": [],
      "metadata": {
        "id": "9vux9KbZrPkH"
      },
      "execution_count": null,
      "outputs": []
    }
  ],
  "metadata": {
    "colab": {
      "provenance": [],
      "authorship_tag": "ABX9TyP3ODwyTSXZKnbOOPgQmeHR",
      "include_colab_link": true
    },
    "kernelspec": {
      "display_name": "Python 3",
      "name": "python3"
    },
    "language_info": {
      "name": "python"
    }
  },
  "nbformat": 4,
  "nbformat_minor": 0
}