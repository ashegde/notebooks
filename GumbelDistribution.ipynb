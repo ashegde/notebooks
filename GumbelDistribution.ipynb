{
  "nbformat": 4,
  "nbformat_minor": 0,
  "metadata": {
    "colab": {
      "provenance": []
    },
    "kernelspec": {
      "name": "python3",
      "display_name": "Python 3"
    },
    "language_info": {
      "name": "python"
    }
  },
  "cells": [
    {
      "cell_type": "markdown",
      "source": [
        "In this notebook, we review some properties of the Gumbel distribution. Our primary reference here is __Huijben, I. A., Kool, W., Paulus, M. B., & Van Sloun, R. J. (2022). A review of the gumbel-max trick and its extensions for discrete stochasticity in machine learning. IEEE Transactions on Pattern Analysis and Machine Intelligence, 45(2), 1353-1371.__ The primary goal here is to gain some understanding of the Gumbel-max and Gumbel-softmax tricks."
      ],
      "metadata": {
        "id": "sesOa95eaarq"
      }
    },
    {
      "cell_type": "code",
      "source": [
        "import numpy as np\n",
        "import matplotlib.pyplot as plt"
      ],
      "metadata": {
        "id": "_1yBfiBjdhjt"
      },
      "execution_count": null,
      "outputs": []
    },
    {
      "cell_type": "code",
      "source": [
        "class Gumbel:\n",
        "  ''' Gumbel distribution '''\n",
        "  \n",
        "  def __init__(self, mu, beta):\n",
        "    self.mu = mu\n",
        "    self.beta = beta\n",
        "\n",
        "  def cdf(self, x):\n",
        "    return np.exp( -np.exp( -(x-self.mu)/self.beta ) )\n",
        "\n",
        "  def icdf(self, u):\n",
        "    return  -self.beta * np.log( -np.log(u)) + self.mu\n",
        "\n",
        "  def pdf(self, x):\n",
        "    return 1/self.beta * np.exp(- (x-self.mu)/self.beta) * self.cdf(x)\n",
        "\n",
        "  def sample(self, num_samples):\n",
        "    u = np.random.rand(*num_samples)\n",
        "    return self.icdf(u)\n"
      ],
      "metadata": {
        "id": "9u1t4q084mUn"
      },
      "execution_count": null,
      "outputs": []
    },
    {
      "cell_type": "code",
      "source": [
        "G = Gumbel(0,1)\n",
        "x = np.arange(-10,10,0.01)\n",
        "F = G.cdf(x)\n",
        "f = G.pdf(x)\n",
        "\n",
        "u = np.arange(1e-8,1-1e-8,0.001)\n",
        "Q = G.icdf(u)\n",
        "\n",
        "fig, axs = plt.subplots(1, 3, figsize=(10,5))\n",
        "axs[0].plot(x,F,'b', label = 'Gumbel')\n",
        "axs[0].set_title('CDF')\n",
        "axs[0].set_xlabel('x')\n",
        "\n",
        "axs[1].plot(x,f,'b', label = 'Gumbel')\n",
        "axs[1].set_title('PDF')\n",
        "axs[1].set_xlabel('x')\n",
        "\n",
        "axs[2].plot(u,Q,'b', label = 'Gumbel')\n",
        "axs[2].set_title('Inverse CDF')\n",
        "axs[2].set_xlabel('u')\n",
        "\n",
        "plt.show()"
      ],
      "metadata": {
        "id": "Q8sKfvfcrJcs"
      },
      "execution_count": null,
      "outputs": []
    },
    {
      "cell_type": "code",
      "source": [
        "\n",
        "g = G.sample( (10000,) )\n",
        "plt.hist(g, 100, density=True)\n",
        "plt.plot(x,f,'r', label='pdf')\n",
        "plt.legend()\n",
        "plt.show()"
      ],
      "metadata": {
        "id": "K_VpvgiCxUNq"
      },
      "execution_count": null,
      "outputs": []
    },
    {
      "cell_type": "code",
      "source": [
        "class Categorical:\n",
        "  ''' Unnormalized Categorical distribution, sampled via the Gumbel-max trick '''\n",
        "\n",
        "  def __init__(self, logits):\n",
        "    self.logits = logits #unnormalized log probabilities\n",
        "    # self.theta= np.exp(self.logits)\n",
        "    # self.probs = self.theta / self.theta.sum()\n",
        "    # as an exersize, we want to avoid explicitly computing the partition function and resulting probabilities\n",
        "\n",
        "  def sample(self, num_samples, B = None):\n",
        "    '''\n",
        "    sample from the conditional distribution given that index set B has occurred\n",
        "    '''\n",
        "    if not B:\n",
        "      B = [ii for ii in range(self.logits.shape[0])]\n",
        "    G = Gumbel(0,1)\n",
        "    n = self.logits[B].shape[0]\n",
        "    \n",
        "    H = G.sample((num_samples, n)) + self.logits[B]\n",
        "    I = H.argmax(axis=1) # ~ Cat(self.probs)\n",
        "    #M = H.amax(axis=1)   # ~ Gumbel( )\n",
        "    return I\n",
        "\n",
        "  \n",
        "    "
      ],
      "metadata": {
        "id": "H9XFcrkIv4X7"
      },
      "execution_count": null,
      "outputs": []
    },
    {
      "cell_type": "code",
      "source": [
        "n = 10\n",
        "logits = np.random.randn(n)\n",
        "theta = np.exp(logits)\n",
        "probs = theta / theta.sum()\n",
        "\n",
        "C = Categorical(logits)\n",
        "c = C.sample(10000)\n",
        "plt.bar(np.arange(n),probs, color = 'b', label = 'truth')\n",
        "plt.hist(c, bins = [ii-0.5 for ii in range(n+1)], density = True, \n",
        "         color = 'gray', hatch='/', alpha = 0.4, label = 'empirical')\n",
        "plt.legend()\n",
        "plt.show()"
      ],
      "metadata": {
        "id": "gfvLmISkDSxe"
      },
      "execution_count": null,
      "outputs": []
    }
  ]
}